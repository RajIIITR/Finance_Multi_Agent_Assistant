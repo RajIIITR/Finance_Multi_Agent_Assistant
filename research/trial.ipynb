{
 "cells": [
  {
   "cell_type": "code",
   "execution_count": 155,
   "id": "3be8eac9",
   "metadata": {},
   "outputs": [],
   "source": [
    "import os\n",
    "from dotenv import load_dotenv"
   ]
  },
  {
   "cell_type": "code",
   "execution_count": 156,
   "id": "c8c91b66",
   "metadata": {},
   "outputs": [
    {
     "data": {
      "text/plain": [
       "True"
      ]
     },
     "execution_count": 156,
     "metadata": {},
     "output_type": "execute_result"
    }
   ],
   "source": [
    "load_dotenv()"
   ]
  },
  {
   "cell_type": "code",
   "execution_count": 157,
   "id": "7c5ea9d5",
   "metadata": {},
   "outputs": [],
   "source": [
    "GOOGLE_API_KEY=os.getenv(\"GOOGLE_API_KEY\")\n",
    "TAVILY_API_KEY=os.getenv(\"TAVILY_API_KEY\")\n",
    "LANGCHAIN_API_KEY=os.getenv(\"LANGCHAIN_API_KEY\")\n",
    "LANGSMITH_PROJECT=\"Financial_stock_Eval\""
   ]
  },
  {
   "cell_type": "code",
   "execution_count": 158,
   "id": "b22323ed",
   "metadata": {},
   "outputs": [],
   "source": [
    "os.environ[\"GOOGLE_API_KEY\"] = GOOGLE_API_KEY\n",
    "os.environ[\"TAVILY_API_KEY\"] = TAVILY_API_KEY\n",
    "os.environ[\"LANGCHAIN_API_KEY\"] = LANGCHAIN_API_KEY\n",
    "os.environ[\"LANGCHAIN_TRACING_V2\"] = \"true\"\n",
    "os.environ[\"LANGCHAIN_ENDPOINT\"] = \"https://api.smith.langchain.com\"\n",
    "os.environ[\"LANGSMITH_PROJECT\"] = \"Financial_stock_Eval\""
   ]
  },
  {
   "cell_type": "code",
   "execution_count": 159,
   "id": "1b9d1838",
   "metadata": {},
   "outputs": [],
   "source": [
    "from typing import Union, Dict, Set, List, TypedDict, Annotated\n",
    "import pandas as pd\n",
    "from langchain_core.tools import tool\n",
    "import yfinance as yf\n",
    "from ta.momentum import RSIIndicator, StochasticOscillator\n",
    "from ta.trend import SMAIndicator, EMAIndicator, MACD\n",
    "from ta.volume import volume_weighted_average_price\n",
    "from langchain_core.messages import SystemMessage, AIMessage, HumanMessage"
   ]
  },
  {
   "cell_type": "code",
   "execution_count": 160,
   "id": "25355318",
   "metadata": {},
   "outputs": [],
   "source": [
    "from langchain_google_genai import ChatGoogleGenerativeAI\n",
    "llm = ChatGoogleGenerativeAI(model=\"gemini-2.5-flash\")"
   ]
  },
  {
   "cell_type": "code",
   "execution_count": 161,
   "id": "5697a524",
   "metadata": {},
   "outputs": [
    {
     "data": {
      "text/plain": [
       "AIMessage(content='Hello! How can I help you today?', additional_kwargs={}, response_metadata={'prompt_feedback': {'block_reason': 0, 'safety_ratings': []}, 'finish_reason': 'STOP', 'model_name': 'gemini-2.5-flash', 'safety_ratings': []}, id='run--e5bca341-b889-4d94-89c6-296a63d6c154-0', usage_metadata={'input_tokens': 3, 'output_tokens': 222, 'total_tokens': 225, 'input_token_details': {'cache_read': 0}, 'output_token_details': {'reasoning': 213}})"
      ]
     },
     "execution_count": 161,
     "metadata": {},
     "output_type": "execute_result"
    }
   ],
   "source": [
    "llm.invoke(\"Hlo\")"
   ]
  },
  {
   "cell_type": "markdown",
   "id": "332141e0",
   "metadata": {},
   "source": [
    "To extract company name and ticker name"
   ]
  },
  {
   "cell_type": "code",
   "execution_count": 162,
   "id": "a7afe320",
   "metadata": {},
   "outputs": [],
   "source": [
    "from langchain_core.prompts import ChatPromptTemplate\n",
    "from pydantic import BaseModel, Field\n",
    "\n",
    "# Company extraction system\n",
    "class CompanyExtraction(BaseModel):\n",
    "    \"\"\"Extract company name and stock symbol from user question.\"\"\"\n",
    "    \n",
    "    company_name: str = Field(description=\"The company name mentioned in the question\")\n",
    "    stock_symbol: str = Field(description=\"The stock ticker symbol (e.g., TSLA, AAPL)\")\n",
    "\n",
    "structured_llm_extractor = llm.with_structured_output(CompanyExtraction)\n",
    "\n",
    "company_extract_prompt = ChatPromptTemplate.from_messages([\n",
    "    (\"system\", \"\"\"You are an expert at extracting company names and stock symbols from user questions.\n",
    "    Extract the company name and its corresponding stock ticker symbol from the user's question.\n",
    "    If the user mentions a company name, provide the appropriate stock symbol.\n",
    "    If the user mentions a stock symbol, provide the company name.\n",
    "    Common examples: Tesla -> TSLA, Apple -> AAPL, Microsoft -> MSFT, Amazon -> AMZN, Google -> GOOGL\"\"\"),\n",
    "    (\"human\", \"User question: {question}\")\n",
    "])\n",
    "\n",
    "company_extractor = company_extract_prompt | structured_llm_extractor"
   ]
  },
  {
   "cell_type": "markdown",
   "id": "b32f933b",
   "metadata": {},
   "source": [
    "To check whether given query by user is regarding financial stock or not"
   ]
  },
  {
   "cell_type": "code",
   "execution_count": 163,
   "id": "9e3035cf",
   "metadata": {},
   "outputs": [],
   "source": [
    "class GradeQuestion(BaseModel):\n",
    "    \"\"\"Binary score for relevance check on Question given by user whether is it valid financial stock related Question or Not.\"\"\"\n",
    "\n",
    "    binary_score: str = Field(\n",
    "        description=\"Question are relavant to stock, 'yes' or 'no'\"\n",
    "    )"
   ]
  },
  {
   "cell_type": "code",
   "execution_count": 164,
   "id": "329dd8ea",
   "metadata": {},
   "outputs": [],
   "source": [
    "# LLM with function call\n",
    "structured_llm_grader = llm.with_structured_output(GradeQuestion)\n",
    "# Prompt\n",
    "system = \"\"\"You are a grader assessing relevance of a user question. \\n \n",
    "    If the user question contains keyword(s) or semantic meaning related to the financial stock aspects, grade it as relevant. \\n\n",
    "    Give a binary score 'yes' or 'no' score to indicate whether the question is relavant to stock aspects.\"\"\"\n",
    "grade_prompt = ChatPromptTemplate.from_messages(\n",
    "    [\n",
    "        (\"system\", system),\n",
    "        (\"human\", \"User question: {question}\"),\n",
    "    ]\n",
    ")\n",
    "\n",
    "retrieval_grader = grade_prompt | structured_llm_grader"
   ]
  },
  {
   "cell_type": "code",
   "execution_count": 165,
   "id": "51614994",
   "metadata": {},
   "outputs": [
    {
     "name": "stdout",
     "output_type": "stream",
     "text": [
      "binary_score='no'\n"
     ]
    }
   ],
   "source": [
    "question = \"When will wednesday season 2 will release?\"\n",
    "print(retrieval_grader.invoke({\"question\": question}))"
   ]
  },
  {
   "cell_type": "code",
   "execution_count": 166,
   "id": "a0f99ca6",
   "metadata": {},
   "outputs": [
    {
     "name": "stdout",
     "output_type": "stream",
     "text": [
      "binary_score='yes'\n"
     ]
    }
   ],
   "source": [
    "question = \"What is current price of Tesla?\"\n",
    "print(retrieval_grader.invoke({\"question\": question}))"
   ]
  },
  {
   "cell_type": "code",
   "execution_count": 167,
   "id": "ea2811c0",
   "metadata": {},
   "outputs": [],
   "source": [
    "def grade_Question(state):\n",
    "    \"\"\"\n",
    "    Determine whether the user question are relavant to medical domain.\n",
    "\n",
    "    Args:\n",
    "        state (dict): The current graph state\n",
    "\n",
    "    Returns:\n",
    "        state (dict): Updates documents key with only filtered relevant documents\n",
    "    \"\"\"\n",
    "\n",
    "    print(\"---CHECKING DOCUMENT RELEVANT IS TO QUESTION OR NOT---\")\n",
    "\n",
    "    question = state[\"question\"]\n",
    "\n",
    "    Question_valid = \"Yes\"\n",
    "\n",
    "    score = retrieval_grader.invoke({\"question\": question})\n",
    "    grade = score.binary_score\n",
    "    if grade == \"yes\":\n",
    "        print(\"---GRADE: Question IS RELEVANT---\")\n",
    "        try:\n",
    "            company_info = company_extractor.invoke({\"question\": question})\n",
    "            stock_symbol = company_info.stock_symbol\n",
    "            company_name = company_info.company_name\n",
    "            print(f\"---EXTRACTED COMPANY: {company_name} ({stock_symbol})---\")\n",
    "        except Exception as e:\n",
    "            print(f\"---ERROR EXTRACTING COMPANY: {e}---\")\n",
    "            stock_symbol = \"UNKNOWN\"\n",
    "            company_name = \"UNKNOWN\"\n",
    "    else:\n",
    "        print(\"---GRADE: Question IS NOT RELEVANT---\")\n",
    "        Question_valid = \"No\"\n",
    "        stock_symbol = \"\"\n",
    "        company_name = \"\"\n",
    "\n",
    "\n",
    "    return {\n",
    "        \"question\": question,\n",
    "        \"Question_valid\": Question_valid,\n",
    "        \"messages\": state.get(\"messages\", []),\n",
    "        \"news\": state.get(\"news\", []),\n",
    "        \"stock\": stock_symbol,\n",
    "        \"company_name\": company_name\n",
    "    }"
   ]
  },
  {
   "cell_type": "code",
   "execution_count": 168,
   "id": "494b4f90",
   "metadata": {},
   "outputs": [],
   "source": [
    "def decide_to_generate(state):\n",
    "    \"\"\"Route based on question validity\"\"\"\n",
    "    if state.get(\"Question_valid\") == \"Yes\":\n",
    "        return \"fundamental_analyst\"\n",
    "    else:\n",
    "        return \"reject\""
   ]
  },
  {
   "cell_type": "code",
   "execution_count": 169,
   "id": "755dcd48",
   "metadata": {},
   "outputs": [],
   "source": [
    "def reject_question(state):\n",
    "    \"\"\"Handle rejection of non-financial questions\"\"\"\n",
    "    print(\"---REJECTING: Not a finance stock question---\")\n",
    "    return {\n",
    "        \"question\": state[\"question\"],\n",
    "        \"messages\": [\"Given Question Doesn't belong to finance stock Domain\"],\n",
    "        \"Question_valid\": \"No\",\n",
    "        \"news\": state.get(\"news\", []),\n",
    "        \"stock\": state.get(\"stock\", \"\"),\n",
    "        \"company_name\": state.get(\"company_name\", \"\"),\n",
    "        \"generation\": \"This question is not related to financial stock analysis.\"\n",
    "    }"
   ]
  },
  {
   "cell_type": "code",
   "execution_count": 170,
   "id": "3bb1dcff",
   "metadata": {},
   "outputs": [],
   "source": [
    "def decide_after_tools(state):\n",
    "    \"\"\"Route after tool execution back to fundamental_analyst\"\"\"\n",
    "    return \"fundamental_analyst\"\n",
    "\n",
    "def decide_after_fundamental_analyst(state):\n",
    "    \"\"\"Route from fundamental_analyst to transform_question\"\"\"\n",
    "    return \"transform_question\""
   ]
  },
  {
   "cell_type": "markdown",
   "id": "faf0034d",
   "metadata": {},
   "source": [
    "Let's Create Question Re-Writer so while using tavily search we can find optimal news which can significantly effect the stock pricing. (Will focus on news till last month)"
   ]
  },
  {
   "cell_type": "code",
   "execution_count": 171,
   "id": "a116b3a7",
   "metadata": {},
   "outputs": [],
   "source": [
    "### Question Re-writer\n",
    "# Prompt\n",
    "from langchain_core.prompts import ChatPromptTemplate\n",
    "from langchain_core.output_parsers import StrOutputParser\n",
    "\n",
    "system = \"\"\"You a question re-writer that converts an input question to a better version that is optimized \\n \n",
    "     for web search. Give only 1 optimized question. Look at the input and try to reason about the underlying semantic intent / meaning.\n",
    "     Your main role is define a better question for extracting past one month news about the company due to which it may be a factor of rise or fall of the stock.\"\"\"\n",
    "     \n",
    "     \n",
    "re_write_prompt = ChatPromptTemplate.from_messages(\n",
    "    [\n",
    "        (\"system\", system),\n",
    "        (\n",
    "            \"human\",\n",
    "            \"Here is the initial question: \\n\\n {question} \\n Formulate an improved question.\",\n",
    "        ),\n",
    "    ]\n",
    ")\n",
    "\n",
    "question_rewriter = re_write_prompt | llm | StrOutputParser()"
   ]
  },
  {
   "cell_type": "code",
   "execution_count": 172,
   "id": "713fe6f3",
   "metadata": {},
   "outputs": [
    {
     "data": {
      "text/plain": [
       "'What were the key news and factors impacting Tesla (TSLA) stock after the US election?'"
      ]
     },
     "execution_count": 172,
     "metadata": {},
     "output_type": "execute_result"
    }
   ],
   "source": [
    "question = \"How does stock price of tesla was affected after US election?\"\n",
    "question_rewriter.invoke({\"question\": question})"
   ]
  },
  {
   "cell_type": "code",
   "execution_count": 173,
   "id": "6a22d135",
   "metadata": {},
   "outputs": [],
   "source": [
    "def transform_question(state):\n",
    "    \"\"\"\n",
    "    Transform the query to produce a better question\n",
    "\n",
    "    Args:\n",
    "        state (dict): The current graph state\n",
    "\n",
    "    Returns:\n",
    "        state (dict): Updates question key with a re-phrase question\n",
    "    \"\"\"\n",
    "    print(\"---TRANSFORMER QUERY---\")\n",
    "\n",
    "    question = state[\"question\"]\n",
    "    messages = state[\"messages\"]\n",
    "    company_name = state.get(\"company_name\", \"\")\n",
    "\n",
    "    # Include company name in the question for better search and better transform user query for optimize web search\n",
    "    enhanced_question = f\"{question} {company_name}\" if company_name else question\n",
    "    better_question = question_rewriter.invoke({\"question\": enhanced_question})\n",
    "    \n",
    "    if isinstance(better_question, dict):\n",
    "        better_question = better_question.get(\"question\", \"\")\n",
    "\n",
    "    print(\"---NEW QUESTION---\")\n",
    "    print(better_question)\n",
    "\n",
    "    return {\n",
    "        \"messages\": messages,\n",
    "        \"question\": better_question,\n",
    "        \"Question_valid\": state.get(\"Question_valid\", \"\"),\n",
    "        \"news\": state.get(\"news\", []),\n",
    "        \"stock\": state.get(\"stock\", \"\"),\n",
    "        \"company_name\": state.get(\"company_name\", \"\")\n",
    "    }"
   ]
  },
  {
   "cell_type": "markdown",
   "id": "2324375d",
   "metadata": {},
   "source": [
    "Let's Define our Tavily Search to get recent news about particular company stocks etc...."
   ]
  },
  {
   "cell_type": "code",
   "execution_count": 174,
   "id": "ef64f6cd",
   "metadata": {},
   "outputs": [],
   "source": [
    "### Search\n",
    "\n",
    "from langchain_community.tools.tavily_search import TavilySearchResults\n",
    "\n",
    "web_search_tool = TavilySearchResults(k=5)"
   ]
  },
  {
   "cell_type": "code",
   "execution_count": 175,
   "id": "ba71cb8e",
   "metadata": {},
   "outputs": [],
   "source": [
    "def web_search(state):\n",
    "    \"\"\"Web search based on the re-phrased question.\"\"\"\n",
    "    print(\"---WEB SEARCH---\")\n",
    "\n",
    "    question = state[\"question\"]\n",
    "    news = state.get(\"news\", [])\n",
    "\n",
    "    # Web search\n",
    "    docs = web_search_tool.invoke({\"query\": question})\n",
    "    web_results = \"\\n\".join([d[\"content\"] for d in docs])\n",
    "    news.append(web_results)\n",
    "\n",
    "    return {\n",
    "        \"news\": news,\n",
    "        \"question\": question,\n",
    "        \"messages\": state.get(\"messages\", []),\n",
    "        \"Question_valid\": state.get(\"Question_valid\", \"\"),\n",
    "        \"stock\": state.get(\"stock\", \"\"),\n",
    "        \"company_name\": state.get(\"company_name\", \"\")\n",
    "    }"
   ]
  },
  {
   "cell_type": "markdown",
   "id": "2a8100ab",
   "metadata": {},
   "source": [
    "<b>Fetching Stock Prices:</b> This tool fetches the stock’s historical data and computes several technical indicators."
   ]
  },
  {
   "cell_type": "code",
   "execution_count": 176,
   "id": "221c426f",
   "metadata": {},
   "outputs": [],
   "source": [
    "@tool\n",
    "def get_stock_prices(ticker: str) -> Union[Dict, str]:\n",
    "    \"\"\"Fetches historical stock price data and technical indicator for a given ticker.\"\"\"\n",
    "    try:\n",
    "        data = yf.download(\n",
    "            ticker,\n",
    "            start=dt.datetime.now() - dt.timedelta(weeks=24*3),\n",
    "            end=dt.datetime.now(),\n",
    "            interval='1wk'\n",
    "        )\n",
    "        df = data.copy()\n",
    "        data.reset_index(inplace=True)\n",
    "        data.Date = data.Date.astype(str)\n",
    "\n",
    "        indicators = {}\n",
    "\n",
    "        rsi_series = RSIIndicator(df['Close'], window=14).rsi().iloc[-12:]\n",
    "        indicators[\"RSI\"] = {date.strftime('%Y-%m-%d'): int(value)\n",
    "                    for date, value in rsi_series.dropna().to_dict().items()}\n",
    "\n",
    "        sto_series = StochasticOscillator(\n",
    "            df['High'], df['Low'], df['Close'], window=14).stoch().iloc[-12:]\n",
    "        indicators[\"Stochastic_Oscillator\"] = {\n",
    "                    date.strftime('%Y-%m-%d'): int(value)\n",
    "                    for date, value in sto_series.dropna().to_dict().items()}\n",
    "\n",
    "        macd = MACD(df['Close'])\n",
    "        macd_series = macd.macd().iloc[-12:]\n",
    "        indicators[\"MACD\"] = {date.strftime('%Y-%m-%d'): int(value)\n",
    "                    for date, value in macd_series.to_dict().items()}\n",
    "\n",
    "        macd_signal_series = macd.macd_signal().iloc[-12:]\n",
    "        indicators[\"MACD_Signal\"] = {date.strftime('%Y-%m-%d'): int(value)\n",
    "                    for date, value in macd_signal_series.to_dict().items()}\n",
    "\n",
    "        vwap_series = volume_weighted_average_price(\n",
    "            high=df['High'], low=df['Low'], close=df['Close'],\n",
    "            volume=df['Volume'],\n",
    "        ).iloc[-12:]\n",
    "        indicators[\"vwap\"] = {date.strftime('%Y-%m-%d'): int(value)\n",
    "                    for date, value in vwap_series.to_dict().items()}\n",
    "\n",
    "        return {'stock_price': data.to_dict(orient='records'),\n",
    "                'indicators': indicators}\n",
    "\n",
    "    except Exception as e:\n",
    "        return f\"Error fetching price data: {str(e)}\""
   ]
  },
  {
   "cell_type": "markdown",
   "id": "477fd434",
   "metadata": {},
   "source": [
    "<b>Financial Ratios:</b> This tool retrieves key financial health ratios."
   ]
  },
  {
   "cell_type": "code",
   "execution_count": 177,
   "id": "39c4b687",
   "metadata": {},
   "outputs": [],
   "source": [
    "@tool\n",
    "def get_financial_metrics(ticker: str) -> Union[Dict, str]:\n",
    "    \"\"\"Fetches key financial ratios for a given ticker.\"\"\"\n",
    "    try:\n",
    "        stock = yf.Ticker(ticker)\n",
    "        info = stock.info\n",
    "        return {\n",
    "            'PE_Ratio': info.get('forwardPE'),\n",
    "            'Price_to_Book': info.get('priceToBook'),\n",
    "            'Debt_to_Equity': info.get('debtToEquity'),\n",
    "            'Profit_Margins': info.get('profitMargins'),\n",
    "            'Operating_Margin': info.get('operatingMargins'),\n",
    "            'Gross_Margin': info.get('grossMargins'),\n",
    "            'Return_on_Equity (ROE)': info.get('returnOnEquity'),\n",
    "            'Return_on_Assets (ROA)': info.get('returnOnAssets'),\n",
    "            'Current_Ratio': info.get('currentRatio'),\n",
    "            'Quick_Ratio': info.get('quickRatio'),\n",
    "            'Operating_Cash_Flow': info.get('operatingCashflow'),\n",
    "            'Free_Cash_Flow': info.get('freeCashflow'),\n",
    "            'Revenue_Growth': info.get('revenueGrowth'),\n",
    "            'Earnings_Growth': info.get('earningsGrowth')\n",
    "        }\n",
    "    except Exception as e:\n",
    "        return f\"Error fetching ratios: {str(e)}\""
   ]
  },
  {
   "cell_type": "markdown",
   "id": "99bb1493",
   "metadata": {},
   "source": [
    "Let's Define our State and StateGraph"
   ]
  },
  {
   "cell_type": "code",
   "execution_count": 178,
   "id": "6aac5308",
   "metadata": {},
   "outputs": [],
   "source": [
    "tools = [get_stock_prices, get_financial_metrics]\n",
    "llm_with_tool = llm.bind_tools(tools)"
   ]
  },
  {
   "cell_type": "code",
   "execution_count": 179,
   "id": "84f8cbc0",
   "metadata": {},
   "outputs": [],
   "source": [
    "def generate_final_analysis(state):\n",
    "    \"\"\"Generate final analysis combining all data\"\"\"\n",
    "    print(\"---GENERATE FINAL ANALYSIS---\")\n",
    "    \n",
    "    messages = state.get(\"messages\", [])\n",
    "    news = state.get(\"news\", [])\n",
    "    stock_symbol = state.get(\"stock\", \"\")\n",
    "    company_name = state.get(\"company_name\", \"\")\n",
    "    \n",
    "    # Create a comprehensive prompt for final analysis\n",
    "    final_prompt = f\"\"\"Based on all the gathered information, provide a comprehensive analysis for {company_name} ({stock_symbol}):\n",
    "\n",
    "    Tools Data Available: {len([m for m in messages if hasattr(m, 'tool_calls') and m.tool_calls])} tool responses\n",
    "    News Data Available: {len(news)} news sources\n",
    "\n",
    "    Please provide a structured analysis with:\n",
    "    1. Stock Price Analysis\n",
    "    2. Technical Indicators Analysis  \n",
    "    3. Financial Metrics Analysis\n",
    "    4. News Impact Analysis\n",
    "    5. Final Summary and Recommendation\n",
    "    6. Answer to the original question: {state['question']}\n",
    "\n",
    "    Use all the data gathered from tools and news to provide actionable insights.\"\"\"\n",
    "    \n",
    "    # Get the latest messages and create analysis\n",
    "    analysis_messages = [HumanMessage(content=final_prompt)] + messages\n",
    "    \n",
    "    # Generate final analysis\n",
    "    final_response = llm.invoke(analysis_messages)\n",
    "    \n",
    "    return {\n",
    "        \"question\": state[\"question\"],\n",
    "        \"news\": news,\n",
    "        \"messages\": messages + [final_response],\n",
    "        \"generation\": final_response.content,\n",
    "        \"Question_valid\": state.get(\"Question_valid\", \"\"),\n",
    "        \"stock\": stock_symbol,\n",
    "        \"company_name\": company_name\n",
    "    }"
   ]
  },
  {
   "cell_type": "code",
   "execution_count": 180,
   "id": "6a17c9fb",
   "metadata": {},
   "outputs": [],
   "source": [
    "class State(TypedDict):\n",
    "    messages: List\n",
    "    question: str\n",
    "    Question_valid: str\n",
    "    news: List\n",
    "    stock: str\n",
    "    company_name: str\n",
    "    generation: str"
   ]
  },
  {
   "cell_type": "code",
   "execution_count": 181,
   "id": "1ef02052",
   "metadata": {},
   "outputs": [],
   "source": [
    "FUNDAMENTAL_ANALYST_PROMPT = \"\"\"You are a fundamental analyst specializing in evaluating company performance based on stock prices, technical indicators, financial metrics, and recent news. Your task is to provide a comprehensive summary of the fundamental analysis for {company} (Symbol: {stock_symbol}).\n",
    "\n",
    "You have access to the following tools:\n",
    "1. **get_stock_prices**: Retrieves the latest stock price, historical price data and technical Indicators like RSI, MACD, and VWAP.\n",
    "2. **get_financial_metrics**: Retrieves key financial metrics, such as revenue, earnings per share (EPS), price-to-earnings ratio (P/E), and debt-to-equity ratio.\n",
    "\n",
    "You also have access to recent news and market information that has been gathered through web search.\n",
    "\n",
    "### Your Task:\n",
    "1. **Use Tools**: Call the appropriate tools to gather stock price data and financial metrics for {stock_symbol}\n",
    "2. **Analyze Data**: Evaluate the results and identify trends, strengths, or concerns\n",
    "3. **Incorporate News**: Consider the recent news in your analysis\n",
    "4. **Provide Summary**: Write a comprehensive analysis\n",
    "\n",
    "Give Final Answer on the basis of given user question.\n",
    "\n",
    "Please start by calling the tools to gather the necessary data for {stock_symbol}.\"\"\"\n",
    "\n",
    "\n",
    "def fundamental_analyst(state: State):\n",
    "    \"\"\"Fundamental analyst node that calls tools and provides analysis\"\"\"\n",
    "    print(\"---FUNDAMENTAL ANALYST---\")\n",
    "    \n",
    "    stock_symbol = state.get('stock', 'UNKNOWN')\n",
    "    company_name = state.get('company_name', 'UNKNOWN')\n",
    "    \n",
    "    if stock_symbol == 'UNKNOWN':\n",
    "        error_msg = \"No stock symbol identified. Cannot perform analysis.\"\n",
    "        return {\n",
    "            'messages': state['messages'] + [AIMessage(content=error_msg)],\n",
    "            'question': state['question'],\n",
    "            'Question_valid': state['Question_valid'],\n",
    "            'news': state['news'],\n",
    "            'stock': state['stock'],\n",
    "            'company_name': state['company_name']\n",
    "        }\n",
    "    \n",
    "    # Create system message with the prompt\n",
    "    system_message = SystemMessage(\n",
    "        content=FUNDAMENTAL_ANALYST_PROMPT.format(\n",
    "            company=company_name, \n",
    "            stock_symbol=stock_symbol\n",
    "        )\n",
    "    )\n",
    "    \n",
    "    # Add user question as human message\n",
    "    human_message = HumanMessage(content=state['question'])\n",
    "    \n",
    "    messages = [system_message, human_message] + state['messages']\n",
    "    \n",
    "    # Invoke LLM with tools - this should trigger tool calls\n",
    "    response = llm_with_tool.invoke(messages)\n",
    "    \n",
    "    return {\n",
    "        'messages': state['messages'] + [response],\n",
    "        'question': state['question'],\n",
    "        'Question_valid': state['Question_valid'],\n",
    "        'news': state['news'],\n",
    "        'stock': state['stock'],\n",
    "        'company_name': state['company_name']\n",
    "    }"
   ]
  },
  {
   "cell_type": "code",
   "execution_count": 182,
   "id": "699deef8",
   "metadata": {},
   "outputs": [],
   "source": [
    "def tools_condition(state):\n",
    "    \"\"\"\n",
    "    Always routes to tools for stock data gathering\n",
    "    \"\"\"\n",
    "    return \"tools\""
   ]
  },
  {
   "cell_type": "code",
   "execution_count": 183,
   "id": "2a25da6d",
   "metadata": {},
   "outputs": [],
   "source": [
    "from langgraph.graph import StateGraph, START, END\n",
    "from langgraph.prebuilt import ToolNode\n",
    "\n",
    "graph_builder = StateGraph(State)"
   ]
  },
  {
   "cell_type": "code",
   "execution_count": 184,
   "id": "d45ba560",
   "metadata": {},
   "outputs": [],
   "source": [
    "def decide_to_generate(state):\n",
    "    \"\"\"Route based on question validity\"\"\"\n",
    "    if state.get(\"Question_valid\") == \"Yes\":\n",
    "        return \"fundamental_analyst\"  \n",
    "    else:\n",
    "        return \"reject\""
   ]
  },
  {
   "cell_type": "code",
   "execution_count": 185,
   "id": "2d1bfaa6",
   "metadata": {},
   "outputs": [
    {
     "data": {
      "text/plain": [
       "<langgraph.graph.state.StateGraph at 0x17e1a430ac0>"
      ]
     },
     "execution_count": 185,
     "metadata": {},
     "output_type": "execute_result"
    }
   ],
   "source": [
    "graph_builder.add_node('grade_question', grade_Question)\n",
    "graph_builder.add_node('fundamental_analyst', fundamental_analyst)\n",
    "graph_builder.add_node('reject', reject_question)\n",
    "graph_builder.add_node('tools', ToolNode(tools))\n",
    "graph_builder.add_node('transform_question', transform_question)\n",
    "graph_builder.add_node('web_search', web_search)\n",
    "graph_builder.add_node('generate', generate_final_analysis)"
   ]
  },
  {
   "cell_type": "code",
   "execution_count": 186,
   "id": "a9215d5a",
   "metadata": {},
   "outputs": [
    {
     "data": {
      "text/plain": [
       "<langgraph.graph.state.StateGraph at 0x17e1a430ac0>"
      ]
     },
     "execution_count": 186,
     "metadata": {},
     "output_type": "execute_result"
    }
   ],
   "source": [
    "graph_builder.add_edge(START, 'grade_question')\n",
    "graph_builder.add_conditional_edges('grade_question', decide_to_generate,\n",
    "                                    {\"fundamental_analyst\": \"fundamental_analyst\", \"reject\": \"reject\"})\n",
    "\n",
    "# Main workflow: grade_question -> fundamental_analyst -> tools -> transform_question -> web_search -> generate\n",
    "graph_builder.add_edge('fundamental_analyst', 'tools')\n",
    "graph_builder.add_edge('tools', 'transform_question')\n",
    "graph_builder.add_edge('transform_question', 'web_search')\n",
    "graph_builder.add_edge('web_search', 'generate')\n",
    "\n",
    "# Rejection path\n",
    "graph_builder.add_edge('reject', END)\n",
    "graph_builder.add_edge('generate', END)"
   ]
  },
  {
   "cell_type": "code",
   "execution_count": 187,
   "id": "0108fd29",
   "metadata": {},
   "outputs": [],
   "source": [
    "# Compile the graph\n",
    "graph = graph_builder.compile()"
   ]
  },
  {
   "cell_type": "code",
   "execution_count": 188,
   "id": "0dd884d5",
   "metadata": {},
   "outputs": [
    {
     "data": {
      "image/png": "[encoded data removed]",
      "text/plain": [
       "<IPython.core.display.Image object>"
      ]
     },
     "metadata": {},
     "output_type": "display_data"
    }
   ],
   "source": [
    "# Display the graph\n",
    "from IPython.display import Image, display # type: ignore\n",
    "display(Image(graph.get_graph(xray=True).draw_mermaid_png()))"
   ]
  },
  {
   "cell_type": "code",
   "execution_count": 189,
   "id": "f6ee5db1",
   "metadata": {},
   "outputs": [],
   "source": [
    "from pprint import pprint\n",
    "    \n",
    "# Test inputs\n",
    "inputs = {\n",
    "    \"question\": \"What is current price of Tesla?\",\n",
    "    \"messages\": [],\n",
    "    \"news\": [],\n",
    "    \"Question_valid\": \"\",\n",
    "    \"stock\": \"\",\n",
    "    \"company_name\": \"\",\n",
    "    \"generation\": \"\"\n",
    "}"
   ]
  },
  {
   "cell_type": "code",
   "execution_count": 190,
   "id": "c37443a4",
   "metadata": {},
   "outputs": [
    {
     "name": "stdout",
     "output_type": "stream",
     "text": [
      "Starting Financial Analysis...\n",
      "---CHECKING DOCUMENT RELEVANT IS TO QUESTION OR NOT---\n",
      "---GRADE: Question IS RELEVANT---\n",
      "---EXTRACTED COMPANY: Tesla (TSLA)---\n",
      "Node 'grade_question' completed\n",
      "---\n",
      "---FUNDAMENTAL ANALYST---\n",
      "Node 'fundamental_analyst' completed\n",
      "---\n",
      "Node 'tools' completed\n",
      "---\n",
      "---TRANSFORMER QUERY---\n",
      "---NEW QUESTION---\n",
      "What recent news has impacted Tesla's stock price (rise or fall) in the past month?\n",
      "Node 'transform_question' completed\n",
      "---\n",
      "---WEB SEARCH---\n",
      "Node 'web_search' completed\n",
      "---\n",
      "---GENERATE FINAL ANALYSIS---\n",
      "Node 'generate' completed\n",
      "---\n",
      "\n",
      "=== FINAL ANALYSIS ===\n",
      "Please note: The analysis provided below is based on the limited data available, specifically 0 tool responses and the *existence* of 1 news source whose content was not provided. Therefore, specific numerical analysis for stock price, technical indicators, and detailed financial metrics cannot be performed. The insights will be more qualitative and general, leveraging common knowledge about Tesla's market dynamics.\n",
      "\n",
      "---\n",
      "\n",
      "### Comprehensive Analysis for Tesla (TSLA)\n",
      "\n",
      "**1. Stock Price Analysis**\n",
      "\n",
      "*   **Data Constraint:** No tool data was provided for current or historical stock prices.\n",
      "*   **Qualitative Analysis:** Tesla (TSLA) is renowned for its significant stock price volatility. Its movements are often driven by a complex interplay of factors, including:\n",
      "    *   **Market Sentiment:** Highly sensitive to investor confidence in EV adoption and Tesla's long-term growth story.\n",
      "    *   **Delivery Numbers:** Quarterly delivery figures are a primary catalyst, often leading to sharp movements upon release.\n",
      "    *   **Profitability & Margins:** Concerns over declining automotive gross margins due to price cuts have frequently put downward pressure on the stock.\n",
      "    *   **CEO Elon Musk's Actions & Statements:** His public statements, social media activity, and involvement with other ventures can significantly influence investor perception.\n",
      "    *   **Competition:** Increasing competition in the EV market from both legacy automakers and new entrants.\n",
      "    *   **Macroeconomic Factors:** Interest rates, inflation, and general economic outlook can impact consumer demand for high-ticket items like EVs.\n",
      "Without specific price data, it's impossible to comment on recent trends (rise or fall) or current valuation.\n",
      "\n",
      "**2. Technical Indicators Analysis**\n",
      "\n",
      "*   **Data Constraint:** No tool data was provided for technical indicators.\n",
      "*   **Qualitative Analysis:** Without specific tool data, a technical analysis cannot be performed. Typically, technical indicators such as Moving Averages (SMA, EMA), Relative Strength Index (RSI), MACD, and Bollinger Bands are used to identify trends, momentum, and potential overbought/oversold conditions. Investors would look for support and resistance levels, chart patterns, and volume trends to gauge short-term price movements and potential entry/exit points. For a highly volatile stock like TSLA, technical analysis is often crucial for traders to navigate its swings.\n",
      "\n",
      "**3. Financial Metrics Analysis**\n",
      "\n",
      "*   **Data Constraint:** Lacking specific financial data from tools, a detailed financial metrics analysis is not possible.\n",
      "*   **Qualitative Analysis:** For Tesla, key financial metrics to monitor include:\n",
      "    *   **Revenue Growth:** Particularly from vehicle sales and increasingly from energy generation and storage. Growth rates are crucial as the company matures.\n",
      "    *   **Profitability (EPS & Net Income):** How efficiently the company is converting sales into profit. Recent price cuts have put pressure on these figures.\n",
      "    *   **Gross Margins:** Especially automotive gross margins, which are a key indicator of pricing power and cost efficiency. Any decline here is a significant concern for investors.\n",
      "    *   **Free Cash Flow (FCF):** Indicating financial health and ability to fund growth, R&D, and capital expenditures without relying excessively on external financing.\n",
      "    *   **Vehicle Deliveries:** The primary operational metric, directly impacting revenue. Investors closely watch quarterly and annual delivery targets and achievements.\n",
      "    *   **Valuation Multiples:** P/E ratio, EV/Sales, compared to industry peers and historical averages. Tesla has historically traded at a significant premium, requiring sustained high growth to justify.\n",
      "\n",
      "**4. News Impact Analysis**\n",
      "\n",
      "*   **Data Constraint:** The prompt indicates 1 news source was available, but its content was not provided for analysis. Therefore, a specific analysis of its impact is not possible.\n",
      "*   **General News Impact:** Tesla's stock is highly sensitive to news, and its movements can be swift and dramatic. Common categories of news that significantly impact TSLA include:\n",
      "    *   **Quarterly Delivery & Production Numbers:** These are major catalysts, often determining short-term stock direction.\n",
      "    *   **Pricing Actions:** Price cuts or increases for its vehicles directly affect revenue expectations and profit margins.\n",
      "    *   **Competition:** Announcements of new, compelling EV models from rivals can dampen sentiment.\n",
      "    *   **Regulatory News:** Safety investigations, recalls, or changes in EV incentives.\n",
      "    *   **Technological Breakthroughs/Setbacks:** Progress (or lack thereof) in areas like Full Self-Driving (FSD), battery technology, or AI.\n",
      "    *   **CEO Elon Musk's Statements/Actions:** His social media activity, public appearances, and strategic decisions often move the stock.\n",
      "    *   **Macroeconomic Shifts:** Interest rate changes, inflation data, or consumer confidence reports can influence demand for big-ticket items like EVs.\n",
      "\n",
      "**5. Final Summary and Recommendation**\n",
      "\n",
      "Due to the absence of concrete tool data (stock price, technical indicators, recent financial metrics) and the unprovided content of the single news source, a definitive, data-driven recommendation for TSLA is not feasible at this time.\n",
      "\n",
      "*   **Summary:** Tesla remains a high-growth, high-volatility stock. Its performance is heavily influenced by its ability to increase vehicle deliveries, maintain or improve profit margins (especially given ongoing price competition), expand into new segments (like energy and AI), and navigate an increasingly competitive global EV market. Investor sentiment is also significantly shaped by CEO Elon Musk's leadership and the broader macroeconomic environment.\n",
      "*   **Recommendation:** Investors considering TSLA should:\n",
      "    1.  **Obtain Current Data:** Access up-to-date stock prices, real-time technical charts, and the latest quarterly financial reports directly from reliable financial platforms.\n",
      "    2.  **Analyze Recent News:** Actively seek out and understand the specifics of recent news headlines impacting Tesla (e.g., Q1 earnings call details, delivery numbers, competitive updates, regulatory actions).\n",
      "    3.  **Assess Valuation:** Determine if the current valuation (once known) aligns with their growth expectations and risk tolerance, considering both its automotive and future technology potential.\n",
      "    4.  **Monitor Key Drivers:** Keep a close eye on vehicle delivery trends, automotive gross margins, FSD progress, and the competitive landscape.\n",
      "    5.  **Consider Risk Tolerance:** TSLA is known for significant swings, making it suitable for investors with a higher risk tolerance and a long-term perspective on the EV and AI revolution.\n",
      "\n",
      "**6. Answer to the original question: What recent news has impacted Tesla's stock price (rise or fall) in the past month?**\n",
      "\n",
      "Based on the information provided, the content of the \"1 news sources\" was not included in the prompt. Therefore, I cannot identify the *specific* recent news that has impacted Tesla's stock price (rise or fall) in the past month.\n",
      "\n",
      "To answer this question, one would need to review the specific content of the news source(s) from the past month and correlate it with TSLA's stock performance over the same period. Common impactful news for Tesla typically includes:\n",
      "\n",
      "*   Quarterly delivery and production figures (often released early in the quarter following the reporting period).\n",
      "*   Earnings reports and accompanying conference calls.\n",
      "*   Announcements regarding new models, factories, or technology.\n",
      "*   Pricing changes for their vehicles in key markets.\n",
      "*   Regulatory actions or investigations.\n",
      "*   Statements or actions by CEO Elon Musk.\n"
     ]
    }
   ],
   "source": [
    "print(\"Starting Financial Analysis...\")\n",
    "    \n",
    "final_result = None\n",
    "for output in graph.stream(inputs):\n",
    "    for key, value in output.items():\n",
    "        print(f\"Node '{key}' completed\")\n",
    "        final_result = value\n",
    "    print(\"---\")\n",
    "\n",
    "if final_result and \"generation\" in final_result:\n",
    "    print(\"\\n=== FINAL ANALYSIS ===\")\n",
    "    print(final_result[\"generation\"])\n",
    "else:\n",
    "    print(\"\\n=== ERROR ===\")\n",
    "    print(\"No final generation produced\")"
   ]
  },
  {
   "cell_type": "code",
   "execution_count": 191,
   "id": "7a9b45cf",
   "metadata": {},
   "outputs": [],
   "source": [
    "from pprint import pprint\n",
    "    \n",
    "# Test inputs\n",
    "inputs = {\n",
    "    \"question\": \"Who is the CEO of Tesla?\",\n",
    "    \"messages\": [],\n",
    "    \"news\": [],\n",
    "    \"Question_valid\": \"\",\n",
    "    \"stock\": \"\",\n",
    "    \"company_name\": \"\",\n",
    "    \"generation\": \"\"\n",
    "}"
   ]
  },
  {
   "cell_type": "code",
   "execution_count": 192,
   "id": "39ba1d1c",
   "metadata": {},
   "outputs": [
    {
     "name": "stdout",
     "output_type": "stream",
     "text": [
      "Starting Financial Analysis...\n",
      "---CHECKING DOCUMENT RELEVANT IS TO QUESTION OR NOT---\n",
      "---GRADE: Question IS NOT RELEVANT---\n",
      "Node 'grade_question' completed\n",
      "---\n",
      "---REJECTING: Not a finance stock question---\n",
      "Node 'reject' completed\n",
      "---\n",
      "\n",
      "=== FINAL ANALYSIS ===\n",
      "This question is not related to financial stock analysis.\n"
     ]
    }
   ],
   "source": [
    "print(\"Starting Financial Analysis...\")\n",
    "    \n",
    "final_result = None\n",
    "for output in graph.stream(inputs):\n",
    "    for key, value in output.items():\n",
    "        print(f\"Node '{key}' completed\")\n",
    "        final_result = value\n",
    "    print(\"---\")\n",
    "\n",
    "if final_result and \"generation\" in final_result:\n",
    "    print(\"\\n=== FINAL ANALYSIS ===\")\n",
    "    print(final_result[\"generation\"])\n",
    "else:\n",
    "    print(\"\\n=== ERROR ===\")\n",
    "    print(\"No final generation produced\")"
   ]
  },
  {
   "cell_type": "code",
   "execution_count": 193,
   "id": "2a86a154",
   "metadata": {},
   "outputs": [],
   "source": [
    "from pprint import pprint\n",
    "    \n",
    "# Test inputs\n",
    "inputs = {\n",
    "    \"question\": \"what is stock price of Amazon?\",\n",
    "    \"messages\": [],\n",
    "    \"news\": [],\n",
    "    \"Question_valid\": \"\",\n",
    "    \"stock\": \"\",\n",
    "    \"company_name\": \"\",\n",
    "    \"generation\": \"\"\n",
    "}"
   ]
  },
  {
   "cell_type": "code",
   "execution_count": 194,
   "id": "ef8b27a0",
   "metadata": {},
   "outputs": [
    {
     "name": "stdout",
     "output_type": "stream",
     "text": [
      "Starting Financial Analysis...\n",
      "---CHECKING DOCUMENT RELEVANT IS TO QUESTION OR NOT---\n",
      "---GRADE: Question IS RELEVANT---\n",
      "---EXTRACTED COMPANY: Amazon (AMZN)---\n",
      "Node 'grade_question' completed\n",
      "---\n",
      "---FUNDAMENTAL ANALYST---\n",
      "Node 'fundamental_analyst' completed\n",
      "---\n",
      "Node 'tools' completed\n",
      "---\n",
      "---TRANSFORMER QUERY---\n",
      "---NEW QUESTION---\n",
      "What recent news has caused Amazon (AMZN) stock price to rise or fall in the past month?\n",
      "Node 'transform_question' completed\n",
      "---\n",
      "---WEB SEARCH---\n",
      "Node 'web_search' completed\n",
      "---\n",
      "---GENERATE FINAL ANALYSIS---\n",
      "Node 'generate' completed\n",
      "---\n",
      "\n",
      "=== FINAL ANALYSIS ===\n",
      "Based on the gathered information, here is a comprehensive analysis for Amazon (AMZN):\n",
      "\n",
      "**Data Availability Summary:**\n",
      "*   **Tools Data:** 0 responses (No data available for stock price, technical indicators, or financial metrics)\n",
      "*   **News Data:** 1 news source\n",
      "\n",
      "---\n",
      "\n",
      "### 1. Stock Price Analysis\n",
      "\n",
      "Due to the absence of tool data, specific real-time stock prices, historical price movements, trading volumes, or volatility metrics for Amazon (AMZN) cannot be analyzed at this time. Therefore, we cannot provide insights into recent price trends or performance based on quantitative data.\n",
      "\n",
      "### 2. Technical Indicators Analysis\n",
      "\n",
      "With no tool data available, it is not possible to analyze technical indicators such as Moving Averages (MA), Relative Strength Index (RSI), Moving Average Convergence Divergence (MACD), Bollinger Bands, or any other chart patterns. Consequently, no technical insights into potential support/resistance levels, overbought/oversold conditions, or momentum signals can be provided.\n",
      "\n",
      "### 3. Financial Metrics Analysis\n",
      "\n",
      "The lack of tool data means that key financial metrics for Amazon, such as revenue growth, net income, profit margins, P/E ratio, debt levels, or cash flow, are not available for analysis. Without this information, a fundamental assessment of the company's financial health, valuation, or operational efficiency cannot be performed.\n",
      "\n",
      "### 4. News Impact Analysis\n",
      "\n",
      "**News Source:** Reuters\n",
      "**Headline:** \"Amazon to invest $150 billion in data centers over 15 years as AI boom fuels demand\"\n",
      "\n",
      "**Analysis:**\n",
      "This news reports a significant strategic move by Amazon, committing an enormous $150 billion over the next 15 years to expand its data center infrastructure globally. This massive investment is explicitly driven by the surging demand for cloud computing and Artificial Intelligence (AI) services, primarily through its highly profitable Amazon Web Services (AWS) division.\n",
      "\n",
      "*   **Positive Impact:**\n",
      "    *   **Confidence in Growth:** The sheer scale of the investment signals strong long-term confidence from Amazon's management in the sustained growth of the cloud and AI markets.\n",
      "    *   **Market Leadership Reinforcement:** It reinforces AWS's commitment to maintaining and expanding its dominant position in the cloud infrastructure market, which is crucial for future revenue streams.\n",
      "    *   **Future Revenue Streams:** Investing in data centers directly enables AWS to onboard more customers, support more intensive AI workloads, and thus generate higher revenues in the future.\n",
      "    *   **Strategic Alignment:** The investment perfectly aligns with the global surge in AI adoption, positioning Amazon to be a primary beneficiary of this technological trend.\n",
      "*   **Potential Negative (or Neutral) Considerations (less likely for this news):**\n",
      "    *   **Long-Term Horizon:** The 15-year horizon means the full benefits won't be immediate, but the announcement itself is forward-looking positive.\n",
      "    *   **Capital Expenditure:** While necessary, such large capital expenditures can sometimes be viewed with caution if not clearly tied to growth, but in this case, it explicitly is.\n",
      "\n",
      "**Overall Impact:** This news is overwhelmingly positive for Amazon. It paints a picture of a company aggressively investing in its most promising and high-growth segments (AWS, AI), which should be well-received by investors.\n",
      "\n",
      "### 5. Final Summary and Recommendation\n",
      "\n",
      "**Summary:**\n",
      "The available data is extremely limited, consisting solely of a single positive news article about Amazon's long-term strategic investment in data centers for AI and cloud growth. There is no quantitative data available regarding stock price, technical indicators, or financial metrics.\n",
      "\n",
      "The news highlights Amazon's proactive stance in capitalizing on the booming AI and cloud computing markets by committing $150 billion to expand its AWS infrastructure. This demonstrates strong management confidence in future growth and aims to solidify AWS's market leadership.\n",
      "\n",
      "**Recommendation:**\n",
      "Based *solely* on the provided news, the announcement of a $150 billion investment in data centers for AI and cloud growth is a **positive catalyst** for Amazon (AMZN). It indicates a strong commitment to future revenue growth and market dominance in critical tech sectors.\n",
      "\n",
      "However, given the complete lack of stock price, technical, and financial data, a comprehensive and actionable investment recommendation cannot be made. Investors should consider this positive news alongside a thorough analysis of AMZN's current valuation, financial performance, market conditions, and broader economic outlook, none of which can be provided here.\n",
      "\n",
      "**Therefore, the recommendation based *only* on the available news is to view this development as a positive long-term strategic move by Amazon, which is generally favorable for investor sentiment.**\n",
      "\n",
      "---\n",
      "\n",
      "### 6. Answer to the original question: What recent news has caused Amazon (AMZN) stock price to rise or fall in the past month?\n",
      "\n",
      "Based on the **sole news source provided**, Amazon's announcement to **invest $150 billion in data centers over 15 years to meet AI and cloud demand** is a significant piece of news. This news is generally perceived as **positive** because it signals strong confidence in future growth areas (AI, cloud computing) and a commitment to expanding its highly profitable Amazon Web Services (AWS) division. Such an announcement would typically cause **Amazon (AMZN) stock price to rise or at least provide upward pressure**, as it indicates robust future revenue potential and strategic positioning in high-growth industries.\n"
     ]
    }
   ],
   "source": [
    "print(\"Starting Financial Analysis...\")\n",
    "    \n",
    "final_result = None\n",
    "for output in graph.stream(inputs):\n",
    "    for key, value in output.items():\n",
    "        print(f\"Node '{key}' completed\")\n",
    "        final_result = value\n",
    "    print(\"---\")\n",
    "\n",
    "if final_result and \"generation\" in final_result:\n",
    "    print(\"\\n=== FINAL ANALYSIS ===\")\n",
    "    print(final_result[\"generation\"])\n",
    "else:\n",
    "    print(\"\\n=== ERROR ===\")\n",
    "    print(\"No final generation produced\")"
   ]
  },
  {
   "cell_type": "code",
   "execution_count": 195,
   "id": "653ed4de",
   "metadata": {},
   "outputs": [],
   "source": [
    "from pprint import pprint\n",
    "    \n",
    "# Test inputs\n",
    "inputs = {\n",
    "    \"question\": \"Shall I buy dollar stocks or wait?\",\n",
    "    \"messages\": [],\n",
    "    \"news\": [],\n",
    "    \"Question_valid\": \"\",\n",
    "    \"stock\": \"\",\n",
    "    \"company_name\": \"\",\n",
    "    \"generation\": \"\"\n",
    "}"
   ]
  },
  {
   "cell_type": "code",
   "execution_count": 196,
   "id": "d2e8d0af",
   "metadata": {},
   "outputs": [
    {
     "name": "stdout",
     "output_type": "stream",
     "text": [
      "Starting Financial Analysis...\n",
      "---CHECKING DOCUMENT RELEVANT IS TO QUESTION OR NOT---\n",
      "---GRADE: Question IS RELEVANT---\n",
      "---EXTRACTED COMPANY: None (None)---\n",
      "Node 'grade_question' completed\n",
      "---\n",
      "---FUNDAMENTAL ANALYST---\n",
      "Node 'fundamental_analyst' completed\n",
      "---\n",
      "Node 'tools' completed\n",
      "---\n",
      "---TRANSFORMER QUERY---\n",
      "---NEW QUESTION---\n",
      "What recent news and market developments from the past month are influencing the rise or fall of US dollar-denominated stocks?\n",
      "Node 'transform_question' completed\n",
      "---\n",
      "---WEB SEARCH---\n",
      "Node 'web_search' completed\n",
      "---\n",
      "---GENERATE FINAL ANALYSIS---\n",
      "Node 'generate' completed\n",
      "---\n",
      "\n",
      "=== FINAL ANALYSIS ===\n",
      "This analysis is specifically tailored to address the unique request for \"None (None)\". As \"None (None)\" does not represent a specific publicly traded company or asset, a traditional stock analysis based on specific financial data or market performance is not possible.\n",
      "\n",
      "Instead, this analysis will address the broader market context implied by the request, particularly focusing on the question regarding factors influencing US dollar-denominated stocks, utilizing the available news data.\n",
      "\n",
      "---\n",
      "\n",
      "### Comprehensive Analysis for None (None)\n",
      "\n",
      "**1. Stock Price Analysis**\n",
      "As \"None (None)\" does not represent a specific publicly traded company or asset, there is no historical stock price data available for analysis. Therefore, a traditional stock price trend, volatility assessment, or performance comparison against benchmarks cannot be conducted.\n",
      "\n",
      "**2. Technical Indicators Analysis**\n",
      "Without specific price and volume data, the calculation and interpretation of technical indicators such as Moving Averages, Relative Strength Index (RSI), MACD, or Bollinger Bands are not possible for \"None (None)\". These indicators require historical trading data which is non-existent for a non-entity.\n",
      "\n",
      "**3. Financial Metrics Analysis**\n",
      "As \"None (None)\" is not an identifiable corporate entity, there are no financial statements (income statements, balance sheets, cash flow statements) from which to derive financial metrics like P/E ratio, EPS, revenue growth, debt-to-equity, or profit margins. Consequently, a fundamental analysis based on financial health or valuation is not feasible.\n",
      "\n",
      "**4. News Impact Analysis**\n",
      "While there is no specific news related to \"None (None)\", the available data indicates 1 news source. To address the broader question regarding US dollar-denominated stocks, this news source (if it contained general market or economic information) would typically be analyzed for its potential impact on the general market, economic sentiment, and currency strength, which in turn affect US dollar-denominated assets.\n",
      "\n",
      "Assuming the single news source pertained to recent macroeconomic developments (e.g., inflation data, Federal Reserve policy statements, geopolitical events, or shifts in consumer confidence), its impact on US dollar-denominated stocks would likely be as follows:\n",
      "\n",
      "*   **Positive News (e.g., strong economic data, dovish Fed signals, resolution of geopolitical tensions):** Could lead to increased investor confidence, higher corporate earnings expectations, and potentially a stronger dollar (if linked to US economic outperformance), which generally supports US dollar-denominated stocks.\n",
      "*   **Negative News (e.g., persistent inflation, hawkish Fed signals, escalating geopolitical risks, economic slowdowns):** Could trigger market uncertainty, higher borrowing costs, reduced corporate profitability, and potentially a weaker dollar (if linked to US economic weakness relative to other economies), which could put downward pressure on US dollar-denominated stocks.\n",
      "\n",
      "Without the specific content of the news, a precise impact assessment is not possible, but the general principle is that macro news significantly drives market sentiment and asset valuations.\n",
      "\n",
      "**5. Final Summary and Recommendation**\n",
      "Given that \"None (None)\" does not represent a specific tradable security, a direct investment analysis and recommendation cannot be provided. The preceding sections highlight the absence of stock-specific data for price, technical, and fundamental analysis.\n",
      "\n",
      "For investors interested in US dollar-denominated stocks, the key takeaway from this analysis is the critical role of macroeconomic news and market developments. Decisions should be based on a thorough understanding of prevailing economic conditions, Federal Reserve policy outlook, corporate earnings trends, and global geopolitical stability. Monitoring reliable news sources for these broad market indicators is essential for informed investment decisions in US dollar-denominated assets.\n",
      "\n",
      "---\n",
      "\n",
      "**6. Answer to the original question: What recent news and market developments from the past month are influencing the rise or fall of US dollar-denominated stocks?**\n",
      "\n",
      "Based on the available information (1 news source, though its specific content is not provided), the rise or fall of US dollar-denominated stocks is primarily influenced by a confluence of macroeconomic factors and market developments. While specific news cannot be detailed without its content, common influential themes from the past month likely include:\n",
      "\n",
      "*   **Inflation Data and Interest Rate Expectations:** Persistent inflation figures (e.g., Consumer Price Index - CPI, Producer Price Index - PPI) often prompt expectations of tighter monetary policy from the Federal Reserve. Higher interest rates can increase borrowing costs for companies, reduce the present value of future earnings, and potentially strengthen the US dollar (making US exports more expensive but foreign investments in the US more attractive), generally putting downward pressure on stock valuations, especially for growth stocks.\n",
      "*   **Federal Reserve Commentary and Policy:** Statements and actions from the Federal Reserve (e.g., Federal Open Market Committee - FOMC meeting minutes, speeches by Fed officials) regarding quantitative easing/tightening, interest rate hikes, or balance sheet reduction significantly impact market sentiment. A hawkish stance (indicating higher rates) typically leads to stock market corrections, while a dovish stance (indicating lower or stable rates) can provide support.\n",
      "*   **Corporate Earnings and Economic Growth Projections:** Quarterly earnings reports from major US companies provide insights into the health of various sectors. Strong earnings and optimistic forward guidance can boost stock prices. Conversely, downgraded economic growth forecasts (e.g., GDP revisions) or weaker-than-expected earnings can trigger sell-offs across the market.\n",
      "*   **Geopolitical Events:** International conflicts, trade disputes, or political instability can introduce significant uncertainty, disrupt global supply chains, and impact global demand, leading to increased volatility in US equity markets. While safe-haven flows might initially strengthen the dollar, prolonged instability can weigh heavily on corporate performance and investor confidence.\n",
      "*   **Employment Data:** Key employment reports (e.g., Non-Farm Payrolls, unemployment rate, wage growth) reflect the strength of the US labor market. Strong employment figures can signal economic resilience but also potentially fuel inflation concerns, directly influencing the Federal Reserve's monetary policy decisions.\n",
      "*   **Consumer Confidence and Spending:** Indicators of consumer sentiment and retail sales provide insights into consumer demand, a major driver of the US economy. Weakness in these areas can signal an economic slowdown, directly impacting revenue for US companies.\n",
      "\n",
      "In summary, the interplay of inflation trends, monetary policy outlook, corporate performance, and global geopolitical stability are the primary drivers influencing the trajectory of US dollar-denominated stocks in the current environment. Investors closely watch these indicators for signals on economic health and future corporate profitability.\n"
     ]
    }
   ],
   "source": [
    "print(\"Starting Financial Analysis...\")\n",
    "    \n",
    "final_result = None\n",
    "for output in graph.stream(inputs):\n",
    "    for key, value in output.items():\n",
    "        print(f\"Node '{key}' completed\")\n",
    "        final_result = value\n",
    "    print(\"---\")\n",
    "\n",
    "if final_result and \"generation\" in final_result:\n",
    "    print(\"\\n=== FINAL ANALYSIS ===\")\n",
    "    print(final_result[\"generation\"])\n",
    "else:\n",
    "    print(\"\\n=== ERROR ===\")\n",
    "    print(\"No final generation produced\")"
   ]
  }
 ],
 "metadata": {
  "kernelspec": {
   "display_name": "finance_assitant",
   "language": "python",
   "name": "python3"
  },
  "language_info": {
   "codemirror_mode": {
    "name": "ipython",
    "version": 3
   },
   "file_extension": ".py",
   "mimetype": "text/x-python",
   "name": "python",
   "nbconvert_exporter": "python",
   "pygments_lexer": "ipython3",
   "version": "3.10.18"
  }
 },
 "nbformat": 4,
 "nbformat_minor": 5
}
