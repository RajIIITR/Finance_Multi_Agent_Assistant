{
 "cells": [
  {
   "cell_type": "code",
   "execution_count": 281,
   "id": "3be8eac9",
   "metadata": {},
   "outputs": [],
   "source": [
    "import os\n",
    "from dotenv import load_dotenv"
   ]
  },
  {
   "cell_type": "code",
   "execution_count": 282,
   "id": "c8c91b66",
   "metadata": {},
   "outputs": [
    {
     "data": {
      "text/plain": [
       "True"
      ]
     },
     "execution_count": 282,
     "metadata": {},
     "output_type": "execute_result"
    }
   ],
   "source": [
    "load_dotenv()"
   ]
  },
  {
   "cell_type": "code",
   "execution_count": null,
   "id": "980e3728",
   "metadata": {},
   "outputs": [],
   "source": [
    "import datetime as dt\n",
    "from typing import Union, Dict, Set, List, TypedDict, Annotated\n",
    "from langgraph.graph import StateGraph, START, END\n",
    "from langchain_core.messages import SystemMessage, AIMessage, HumanMessage\n",
    "import yfinance as yf\n",
    "from langchain_core.tools import tool\n",
    "from langgraph.prebuilt import ToolNode, tools_condition\n",
    "from langgraph.graph.message import add_messages\n",
    "from ta.momentum import RSIIndicator, StochasticOscillator\n",
    "from ta.trend import SMAIndicator, EMAIndicator, MACD\n",
    "from ta.volume import volume_weighted_average_price\n",
    "import traceback\n",
    "import pandas as pd"
   ]
  },
  {
   "cell_type": "code",
   "execution_count": 284,
   "id": "7c5ea9d5",
   "metadata": {},
   "outputs": [],
   "source": [
    "GOOGLE_API_KEY=os.getenv(\"GOOGLE_API_KEY\")\n",
    "TAVILY_API_KEY=os.getenv(\"TAVILY_API_KEY\")\n",
    "LANGCHAIN_API_KEY=os.getenv(\"LANGCHAIN_API_KEY\")\n",
    "LANGSMITH_PROJECT=\"Financial_stock_Eval\""
   ]
  },
  {
   "cell_type": "code",
   "execution_count": 285,
   "id": "b22323ed",
   "metadata": {},
   "outputs": [],
   "source": [
    "os.environ[\"GOOGLE_API_KEY\"] = GOOGLE_API_KEY\n",
    "os.environ[\"TAVILY_API_KEY\"] = TAVILY_API_KEY\n",
    "os.environ[\"LANGCHAIN_API_KEY\"] = LANGCHAIN_API_KEY\n",
    "os.environ[\"LANGCHAIN_TRACING_V2\"] = \"true\"\n",
    "os.environ[\"LANGCHAIN_ENDPOINT\"] = \"https://api.smith.langchain.com\"\n",
    "os.environ[\"LANGSMITH_PROJECT\"] = \"Financial_stock_Eval\""
   ]
  },
  {
   "cell_type": "code",
   "execution_count": 286,
   "id": "1b9d1838",
   "metadata": {},
   "outputs": [],
   "source": [
    "from typing import Union, Dict, Set, List, TypedDict, Annotated\n",
    "import pandas as pd\n",
    "from langchain_core.tools import tool\n",
    "import yfinance as yf\n",
    "from ta.momentum import RSIIndicator, StochasticOscillator\n",
    "from ta.trend import SMAIndicator, EMAIndicator, MACD\n",
    "from ta.volume import volume_weighted_average_price\n",
    "from langchain_core.messages import SystemMessage, AIMessage, HumanMessage"
   ]
  },
  {
   "cell_type": "code",
   "execution_count": 287,
   "id": "25355318",
   "metadata": {},
   "outputs": [],
   "source": [
    "from langchain_google_genai import ChatGoogleGenerativeAI\n",
    "llm = ChatGoogleGenerativeAI(model=\"gemini-2.5-flash\")"
   ]
  },
  {
   "cell_type": "code",
   "execution_count": 288,
   "id": "5697a524",
   "metadata": {},
   "outputs": [
    {
     "data": {
      "text/plain": [
       "AIMessage(content='Hello! How can I help you today?', additional_kwargs={}, response_metadata={'prompt_feedback': {'block_reason': 0, 'safety_ratings': []}, 'finish_reason': 'STOP', 'model_name': 'gemini-2.5-flash', 'safety_ratings': []}, id='run--de6e7b3d-a214-4839-9c82-e863b980c931-0', usage_metadata={'input_tokens': 3, 'output_tokens': 229, 'total_tokens': 232, 'input_token_details': {'cache_read': 0}, 'output_token_details': {'reasoning': 220}})"
      ]
     },
     "execution_count": 288,
     "metadata": {},
     "output_type": "execute_result"
    }
   ],
   "source": [
    "llm.invoke(\"Hlo\")"
   ]
  },
  {
   "cell_type": "markdown",
   "id": "332141e0",
   "metadata": {},
   "source": [
    "To extract company name and ticker name"
   ]
  },
  {
   "cell_type": "code",
   "execution_count": 289,
   "id": "a7afe320",
   "metadata": {},
   "outputs": [],
   "source": [
    "from langchain_core.prompts import ChatPromptTemplate\n",
    "from pydantic import BaseModel, Field\n",
    "\n",
    "# Company extraction system\n",
    "class CompanyExtraction(BaseModel):\n",
    "    \"\"\"Extract company name and stock symbol from user question.\"\"\"\n",
    "    \n",
    "    company_name: str = Field(description=\"The company name mentioned in the question\")\n",
    "    stock_symbol: str = Field(description=\"The stock ticker symbol (e.g., TSLA, AAPL)\")\n",
    "\n",
    "structured_llm_extractor = llm.with_structured_output(CompanyExtraction)\n",
    "\n",
    "company_extract_prompt = ChatPromptTemplate.from_messages([\n",
    "    (\"system\", \"\"\"You are an expert at extracting company names and stock symbols from user questions.\n",
    "    Extract the company name and its corresponding stock ticker symbol from the user's question.\n",
    "    If the user mentions a company name, provide the appropriate stock symbol.\n",
    "    If the user mentions a stock symbol, provide the company name.\n",
    "    \n",
    "    Common examples:\n",
    "    - Tesla/TSLA\n",
    "    - Apple/AAPL  \n",
    "    - Microsoft/MSFT\n",
    "    - Amazon/AMZN\n",
    "    - Google/Alphabet/GOOGL\n",
    "    - Meta/Facebook/META\n",
    "    - Netflix/NFLX\n",
    "    - Nvidia/NVDA\n",
    "    - AMD/AMD\n",
    "    \n",
    "    If you cannot identify a specific company, return \"UNKNOWN\" for both fields.\"\"\"),\n",
    "    (\"human\", \"User question: {question}\")\n",
    "])\n",
    "\n",
    "\n",
    "company_extractor = company_extract_prompt | structured_llm_extractor"
   ]
  },
  {
   "cell_type": "markdown",
   "id": "b32f933b",
   "metadata": {},
   "source": [
    "To check whether given query by user is regarding financial stock or not"
   ]
  },
  {
   "cell_type": "code",
   "execution_count": 290,
   "id": "9e3035cf",
   "metadata": {},
   "outputs": [],
   "source": [
    "class GradeQuestion(BaseModel):\n",
    "    \"\"\"Binary score for relevance check on Question given by user whether is it valid financial stock related Question or Not.\"\"\"\n",
    "\n",
    "    binary_score: str = Field(\n",
    "        description=\"Question are relavant to stock, 'yes' or 'no'\"\n",
    "    )"
   ]
  },
  {
   "cell_type": "code",
   "execution_count": 291,
   "id": "329dd8ea",
   "metadata": {},
   "outputs": [],
   "source": [
    "# LLM with function call\n",
    "structured_llm_grader = llm.with_structured_output(GradeQuestion)\n",
    "# Prompt\n",
    "system = \"\"\"You are a grader assessing relevance of a user question. \\n \n",
    "    If the user question contains keyword(s) or semantic meaning related to the financial stock aspects, grade it as relevant. \\n\n",
    "    Give a binary score 'yes' or 'no' score to indicate whether the question is relavant to stock aspects.\"\"\"\n",
    "grade_prompt = ChatPromptTemplate.from_messages(\n",
    "    [\n",
    "        (\"system\", system),\n",
    "        (\"human\", \"User question: {question}\"),\n",
    "    ]\n",
    ")\n",
    "\n",
    "retrieval_grader = grade_prompt | structured_llm_grader"
   ]
  },
  {
   "cell_type": "code",
   "execution_count": 292,
   "id": "51614994",
   "metadata": {},
   "outputs": [
    {
     "name": "stdout",
     "output_type": "stream",
     "text": [
      "binary_score='no'\n"
     ]
    }
   ],
   "source": [
    "question = \"When will wednesday season 2 will release?\"\n",
    "print(retrieval_grader.invoke({\"question\": question}))"
   ]
  },
  {
   "cell_type": "code",
   "execution_count": 293,
   "id": "a0f99ca6",
   "metadata": {},
   "outputs": [
    {
     "name": "stdout",
     "output_type": "stream",
     "text": [
      "binary_score='yes'\n"
     ]
    }
   ],
   "source": [
    "question = \"What is current price of Tesla?\"\n",
    "print(retrieval_grader.invoke({\"question\": question}))"
   ]
  },
  {
   "cell_type": "code",
   "execution_count": 294,
   "id": "ea2811c0",
   "metadata": {},
   "outputs": [],
   "source": [
    "def grade_Question(state):\n",
    "    \"\"\"\n",
    "    Determine whether the user question are relavant to medical domain.\n",
    "\n",
    "    Args:\n",
    "        state (dict): The current graph state\n",
    "\n",
    "    Returns:\n",
    "        state (dict): Updates documents key with only filtered relevant documents\n",
    "    \"\"\"\n",
    "\n",
    "    print(\"---CHECKING DOCUMENT RELEVANT IS TO QUESTION OR NOT---\")\n",
    "\n",
    "    question = state[\"question\"]\n",
    "\n",
    "    Question_valid = \"Yes\"\n",
    "\n",
    "    score = retrieval_grader.invoke({\"question\": question})\n",
    "    grade = score.binary_score\n",
    "    if grade == \"yes\":\n",
    "        print(\"---GRADE: Question IS RELEVANT---\")\n",
    "        try:\n",
    "            company_info = company_extractor.invoke({\"question\": question})\n",
    "            stock_symbol = company_info.stock_symbol\n",
    "            company_name = company_info.company_name\n",
    "            print(f\"---EXTRACTED COMPANY: {company_name} ({stock_symbol})---\")\n",
    "        except Exception as e:\n",
    "            print(f\"---ERROR EXTRACTING COMPANY: {e}---\")\n",
    "            stock_symbol = \"UNKNOWN\"\n",
    "            company_name = \"UNKNOWN\"\n",
    "    else:\n",
    "        print(\"---GRADE: Question IS NOT RELEVANT---\")\n",
    "        Question_valid = \"No\"\n",
    "        stock_symbol = \"\"\n",
    "        company_name = \"\"\n",
    "\n",
    "\n",
    "    return {\n",
    "        \"question\": question,\n",
    "        \"Question_valid\": Question_valid,\n",
    "        \"messages\": state.get(\"messages\", []),\n",
    "        \"news\": state.get(\"news\", []),\n",
    "        \"stock\": stock_symbol,\n",
    "        \"company_name\": company_name\n",
    "    }"
   ]
  },
  {
   "cell_type": "code",
   "execution_count": 295,
   "id": "494b4f90",
   "metadata": {},
   "outputs": [],
   "source": [
    "def decide_to_generate(state):\n",
    "    \"\"\"Route based on question validity\"\"\"\n",
    "    if state.get(\"Question_valid\") == \"Yes\":\n",
    "        return \"fundamental_analyst\"\n",
    "    else:\n",
    "        return \"reject\""
   ]
  },
  {
   "cell_type": "code",
   "execution_count": 296,
   "id": "755dcd48",
   "metadata": {},
   "outputs": [],
   "source": [
    "def reject_question(state):\n",
    "    \"\"\"Handle rejection of non-financial questions\"\"\"\n",
    "    print(\"---REJECTING: Not a finance stock question---\")\n",
    "    return {\n",
    "        \"question\": state[\"question\"],\n",
    "        \"messages\": [\"Given Question Doesn't belong to finance stock Domain\"],\n",
    "        \"Question_valid\": \"No\",\n",
    "        \"news\": state.get(\"news\", []),\n",
    "        \"stock\": state.get(\"stock\", \"\"),\n",
    "        \"company_name\": state.get(\"company_name\", \"\"),\n",
    "        \"generation\": \"This question is not related to financial stock analysis.\"\n",
    "    }"
   ]
  },
  {
   "cell_type": "code",
   "execution_count": 297,
   "id": "3bb1dcff",
   "metadata": {},
   "outputs": [],
   "source": [
    "def decide_after_tools(state):\n",
    "    \"\"\"Route after tool execution back to fundamental_analyst\"\"\"\n",
    "    return \"fundamental_analyst\"\n",
    "\n",
    "def decide_after_fundamental_analyst(state):\n",
    "    \"\"\"Route from fundamental_analyst to transform_question\"\"\"\n",
    "    return \"transform_question\""
   ]
  },
  {
   "cell_type": "markdown",
   "id": "faf0034d",
   "metadata": {},
   "source": [
    "Let's Create Question Re-Writer so while using tavily search we can find optimal news which can significantly effect the stock pricing. (Will focus on news till last month)"
   ]
  },
  {
   "cell_type": "code",
   "execution_count": 298,
   "id": "a116b3a7",
   "metadata": {},
   "outputs": [],
   "source": [
    "### Question Re-writer\n",
    "# Prompt\n",
    "from langchain_core.prompts import ChatPromptTemplate\n",
    "from langchain_core.output_parsers import StrOutputParser\n",
    "\n",
    "system = \"\"\"You a question re-writer that converts an input question to a better version that is optimized \\n \n",
    "     for web search. Give only 1 optimized question. Look at the input and try to reason about the underlying semantic intent / meaning.\n",
    "     Your main role is define a better question for extracting past one month news about the company due to which it may be a factor of rise or fall of the stock.\"\"\"\n",
    "     \n",
    "     \n",
    "re_write_prompt = ChatPromptTemplate.from_messages(\n",
    "    [\n",
    "        (\"system\", system),\n",
    "        (\n",
    "            \"human\",\n",
    "            \"Here is the initial question: \\n\\n {question} \\n Formulate an improved question.\",\n",
    "        ),\n",
    "    ]\n",
    ")\n",
    "\n",
    "question_rewriter = re_write_prompt | llm | StrOutputParser()"
   ]
  },
  {
   "cell_type": "code",
   "execution_count": 299,
   "id": "713fe6f3",
   "metadata": {},
   "outputs": [
    {
     "data": {
      "text/plain": [
       "'What news and factors influenced Tesla stock price after the US election?'"
      ]
     },
     "execution_count": 299,
     "metadata": {},
     "output_type": "execute_result"
    }
   ],
   "source": [
    "question = \"How does stock price of tesla was affected after US election?\"\n",
    "question_rewriter.invoke({\"question\": question})"
   ]
  },
  {
   "cell_type": "code",
   "execution_count": 300,
   "id": "6a22d135",
   "metadata": {},
   "outputs": [],
   "source": [
    "def transform_question(state):\n",
    "    \"\"\"\n",
    "    Transform the query to produce a better question\n",
    "\n",
    "    Args:\n",
    "        state (dict): The current graph state\n",
    "\n",
    "    Returns:\n",
    "        state (dict): Updates question key with a re-phrase question\n",
    "    \"\"\"\n",
    "    print(\"---TRANSFORMER QUERY---\")\n",
    "\n",
    "    question = state[\"question\"]\n",
    "    messages = state[\"messages\"]\n",
    "    company_name = state.get(\"company_name\", \"\")\n",
    "\n",
    "    # Include company name in the question for better search and better transform user query for optimize web search\n",
    "    enhanced_question = f\"{question} {company_name}\" if company_name else question\n",
    "    better_question = question_rewriter.invoke({\"question\": enhanced_question})\n",
    "    \n",
    "    if isinstance(better_question, dict):\n",
    "        better_question = better_question.get(\"question\", \"\")\n",
    "\n",
    "    print(\"---NEW QUESTION---\")\n",
    "    print(better_question)\n",
    "\n",
    "    return {\n",
    "        \"messages\": messages,\n",
    "        \"question\": better_question,\n",
    "        \"Question_valid\": state.get(\"Question_valid\", \"\"),\n",
    "        \"news\": state.get(\"news\", []),\n",
    "        \"stock\": state.get(\"stock\", \"\"),\n",
    "        \"company_name\": state.get(\"company_name\", \"\")\n",
    "    }"
   ]
  },
  {
   "cell_type": "markdown",
   "id": "2324375d",
   "metadata": {},
   "source": [
    "Let's Define our Tavily Search to get recent news about particular company stocks etc...."
   ]
  },
  {
   "cell_type": "code",
   "execution_count": 301,
   "id": "ef64f6cd",
   "metadata": {},
   "outputs": [],
   "source": [
    "### Search\n",
    "\n",
    "from langchain_community.tools.tavily_search import TavilySearchResults\n",
    "\n",
    "web_search_tool = TavilySearchResults(k=5)"
   ]
  },
  {
   "cell_type": "code",
   "execution_count": 302,
   "id": "ba71cb8e",
   "metadata": {},
   "outputs": [],
   "source": [
    "def web_search(state):\n",
    "    \"\"\"Web search based on the re-phrased question.\"\"\"\n",
    "    print(\"---WEB SEARCH---\")\n",
    "\n",
    "    question = state[\"question\"]\n",
    "    news = state.get(\"news\", [])\n",
    "\n",
    "    # Web search\n",
    "    docs = web_search_tool.invoke({\"query\": question})\n",
    "    web_results = \"\\n\".join([d[\"content\"] for d in docs])\n",
    "    news.append(web_results)\n",
    "\n",
    "    return {\n",
    "        \"news\": news,\n",
    "        \"question\": question,\n",
    "        \"messages\": state.get(\"messages\", []),\n",
    "        \"Question_valid\": state.get(\"Question_valid\", \"\"),\n",
    "        \"stock\": state.get(\"stock\", \"\"),\n",
    "        \"company_name\": state.get(\"company_name\", \"\")\n",
    "    }"
   ]
  },
  {
   "cell_type": "markdown",
   "id": "2a8100ab",
   "metadata": {},
   "source": [
    "<b>Fetching Stock Prices:</b> This tool fetches the stock’s historical data and computes several technical indicators."
   ]
  },
  {
   "cell_type": "code",
   "execution_count": 303,
   "id": "221c426f",
   "metadata": {},
   "outputs": [],
   "source": [
    "@tool\n",
    "def get_stock_prices(ticker: str) -> Union[Dict, str]:\n",
    "    \"\"\"Fetches historical stock price data and technical indicator for a given ticker.\"\"\"\n",
    "    try:\n",
    "        data = yf.download(\n",
    "            ticker,\n",
    "            start=dt.datetime.now() - dt.timedelta(weeks=24*3),\n",
    "            end=dt.datetime.now(),\n",
    "            interval='1wk'\n",
    "        )\n",
    "        df = data.copy()\n",
    "        data.reset_index(inplace=True)\n",
    "        data.Date = data.Date.astype(str)\n",
    "\n",
    "        indicators = {}\n",
    "\n",
    "        rsi_series = RSIIndicator(df['Close'], window=14).rsi().iloc[-12:]\n",
    "        indicators[\"RSI\"] = {date.strftime('%Y-%m-%d'): int(value)\n",
    "                    for date, value in rsi_series.dropna().to_dict().items()}\n",
    "\n",
    "        sto_series = StochasticOscillator(\n",
    "            df['High'], df['Low'], df['Close'], window=14).stoch().iloc[-12:]\n",
    "        indicators[\"Stochastic_Oscillator\"] = {\n",
    "                    date.strftime('%Y-%m-%d'): int(value)\n",
    "                    for date, value in sto_series.dropna().to_dict().items()}\n",
    "\n",
    "        macd = MACD(df['Close'])\n",
    "        macd_series = macd.macd().iloc[-12:]\n",
    "        indicators[\"MACD\"] = {date.strftime('%Y-%m-%d'): int(value)\n",
    "                    for date, value in macd_series.to_dict().items()}\n",
    "\n",
    "        macd_signal_series = macd.macd_signal().iloc[-12:]\n",
    "        indicators[\"MACD_Signal\"] = {date.strftime('%Y-%m-%d'): int(value)\n",
    "                    for date, value in macd_signal_series.to_dict().items()}\n",
    "\n",
    "        vwap_series = volume_weighted_average_price(\n",
    "            high=df['High'], low=df['Low'], close=df['Close'],\n",
    "            volume=df['Volume'],\n",
    "        ).iloc[-12:]\n",
    "        indicators[\"vwap\"] = {date.strftime('%Y-%m-%d'): int(value)\n",
    "                    for date, value in vwap_series.to_dict().items()}\n",
    "\n",
    "        return {'stock_price': data.to_dict(orient='records'),\n",
    "                'indicators': indicators}\n",
    "\n",
    "    except Exception as e:\n",
    "        return f\"Error fetching price data: {str(e)}\""
   ]
  },
  {
   "cell_type": "markdown",
   "id": "477fd434",
   "metadata": {},
   "source": [
    "<b>Financial Ratios:</b> This tool retrieves key financial health ratios."
   ]
  },
  {
   "cell_type": "code",
   "execution_count": 304,
   "id": "39c4b687",
   "metadata": {},
   "outputs": [],
   "source": [
    "@tool\n",
    "def get_financial_metrics(ticker: str) -> Union[Dict, str]:\n",
    "    \"\"\"Fetches key financial ratios for a given ticker.\"\"\"\n",
    "    if ticker == \"UNKNOWN\" or not ticker:\n",
    "        return \"Error: No valid stock ticker provided\"\n",
    "    \n",
    "    try:\n",
    "        stock = yf.Ticker(ticker)\n",
    "        info = stock.info\n",
    "        \n",
    "        if not info:\n",
    "            return f\"Error: No financial data available for {ticker}\"\n",
    "        \n",
    "        metrics = {\n",
    "            'PE_Ratio': info.get('forwardPE') or info.get('trailingPE'),\n",
    "            'Price_to_Book': info.get('priceToBook'),\n",
    "            'Debt_to_Equity': info.get('debtToEquity'),\n",
    "            'Profit_Margins': info.get('profitMargins'),\n",
    "            'Market_Cap': info.get('marketCap'),\n",
    "            'Enterprise_Value': info.get('enterpriseValue'),\n",
    "            'Revenue': info.get('totalRevenue'),\n",
    "            'Ticker': ticker\n",
    "        }\n",
    "        \n",
    "        # Clean up None values\n",
    "        cleaned_metrics = {k: v for k, v in metrics.items() if v is not None}\n",
    "        \n",
    "        if len(cleaned_metrics) <= 1:  # Only ticker remained\n",
    "            return f\"Error: No financial metrics available for {ticker}\"\n",
    "        \n",
    "        return cleaned_metrics\n",
    "        \n",
    "    except Exception as e:\n",
    "        error_msg = str(e)\n",
    "        if \"429\" in error_msg:\n",
    "            return f\"Error: Yahoo Finance API rate limit exceeded. Please try again later.\"\n",
    "        elif \"404\" in error_msg:\n",
    "            return f\"Error: Ticker '{ticker}' not found\"\n",
    "        else:\n",
    "            return f\"Error fetching financial metrics for {ticker}: {error_msg}\""
   ]
  },
  {
   "cell_type": "markdown",
   "id": "99bb1493",
   "metadata": {},
   "source": [
    "Let's Define our State and StateGraph"
   ]
  },
  {
   "cell_type": "code",
   "execution_count": 305,
   "id": "6aac5308",
   "metadata": {},
   "outputs": [],
   "source": [
    "tools = [get_stock_prices, get_financial_metrics]\n",
    "llm_with_tool = llm.bind_tools(tools)"
   ]
  },
  {
   "cell_type": "code",
   "execution_count": 306,
   "id": "84f8cbc0",
   "metadata": {},
   "outputs": [],
   "source": [
    "def generate_final_analysis(state):\n",
    "    \"\"\"Generate final analysis combining all data\"\"\"\n",
    "    print(\"---GENERATE FINAL ANALYSIS---\")\n",
    "    \n",
    "    messages = state.get(\"messages\", [])\n",
    "    news = state.get(\"news\", [])\n",
    "    stock_symbol = state.get(\"stock\", \"\")\n",
    "    company_name = state.get(\"company_name\", \"\")\n",
    "    \n",
    "    # Create a comprehensive prompt for final analysis\n",
    "    final_prompt = f\"\"\"Based on all the gathered information, provide a comprehensive analysis for {company_name} ({stock_symbol}):\n",
    "\n",
    "    Tools Data Available: {len([m for m in messages if hasattr(m, 'tool_calls') and m.tool_calls])} tool responses\n",
    "    News Data Available: {len(news)} news sources\n",
    "\n",
    "    Please provide a structured analysis with:\n",
    "    1. Stock Price Analysis\n",
    "    2. Technical Indicators Analysis  \n",
    "    3. Financial Metrics Analysis\n",
    "    4. News Impact Analysis\n",
    "    5. Final Summary and Recommendation\n",
    "    6. Answer to the original question: {state['question']}\n",
    "\n",
    "    Use all the data gathered from tools and news to provide actionable insights.\"\"\"\n",
    "    \n",
    "    # Get the latest messages and create analysis\n",
    "    analysis_messages = [HumanMessage(content=final_prompt)] + messages\n",
    "    \n",
    "    # Generate final analysis\n",
    "    final_response = llm.invoke(analysis_messages)\n",
    "    \n",
    "    return {\n",
    "        \"question\": state[\"question\"],\n",
    "        \"news\": news,\n",
    "        \"messages\": messages + [final_response],\n",
    "        \"generation\": final_response.content,\n",
    "        \"Question_valid\": state.get(\"Question_valid\", \"\"),\n",
    "        \"stock\": stock_symbol,\n",
    "        \"company_name\": company_name\n",
    "    }"
   ]
  },
  {
   "cell_type": "code",
   "execution_count": 307,
   "id": "6a17c9fb",
   "metadata": {},
   "outputs": [],
   "source": [
    "class State(TypedDict):\n",
    "    messages: List\n",
    "    question: str\n",
    "    Question_valid: str\n",
    "    news: List\n",
    "    stock: str\n",
    "    company_name: str\n",
    "    generation: str"
   ]
  },
  {
   "cell_type": "code",
   "execution_count": 308,
   "id": "1ef02052",
   "metadata": {},
   "outputs": [],
   "source": [
    "FUNDAMENTAL_ANALYST_PROMPT = \"\"\"You are a fundamental analyst specializing in evaluating company performance based on stock prices, technical indicators, financial metrics, and recent news. Your task is to provide a comprehensive summary of the fundamental analysis for {company} (Symbol: {stock_symbol}).\n",
    "\n",
    "You have access to the following tools:\n",
    "1. **get_stock_prices**: Retrieves the latest stock price, historical price data and technical Indicators like RSI, MACD, and VWAP.\n",
    "2. **get_financial_metrics**: Retrieves key financial metrics, such as revenue, earnings per share (EPS), price-to-earnings ratio (P/E), and debt-to-equity ratio.\n",
    "\n",
    "You also have access to recent news and market information that has been gathered through web search.\n",
    "\n",
    "### Your Task:\n",
    "1. **Use Tools**: Call the appropriate tools to gather stock price data and financial metrics for {stock_symbol}\n",
    "2. **Analyze Data**: Evaluate the results and identify trends, strengths, or concerns\n",
    "3. **Incorporate News**: Consider the recent news in your analysis\n",
    "4. **Provide Summary**: Write a comprehensive analysis\n",
    "\n",
    "Give Final Answer on the basis of given user question.\n",
    "\n",
    "Please start by calling the tools to gather the necessary data for {stock_symbol}.\"\"\"\n",
    "\n",
    "\n",
    "def fundamental_analyst(state: State):\n",
    "    \"\"\"Fundamental analyst node that calls tools and provides analysis\"\"\"\n",
    "    print(\"---FUNDAMENTAL ANALYST---\")\n",
    "    \n",
    "    stock_symbol = state.get('stock', 'UNKNOWN')\n",
    "    company_name = state.get('company_name', 'UNKNOWN')\n",
    "    \n",
    "    if stock_symbol == 'UNKNOWN':\n",
    "        error_msg = \"No stock symbol identified. Cannot perform analysis.\"\n",
    "        return {\n",
    "            'messages': state['messages'] + [AIMessage(content=error_msg)],\n",
    "            'question': state['question'],\n",
    "            'Question_valid': state['Question_valid'],\n",
    "            'news': state['news'],\n",
    "            'stock': state['stock'],\n",
    "            'company_name': state['company_name']\n",
    "        }\n",
    "    \n",
    "    # Create system message with the prompt\n",
    "    system_message = SystemMessage(\n",
    "        content=FUNDAMENTAL_ANALYST_PROMPT.format(\n",
    "            company=company_name, \n",
    "            stock_symbol=stock_symbol\n",
    "        )\n",
    "    )\n",
    "    \n",
    "    # Add user question as human message\n",
    "    human_message = HumanMessage(content=state['question'])\n",
    "    \n",
    "    messages = [system_message, human_message] + state['messages']\n",
    "    \n",
    "    # Invoke LLM with tools - this should trigger tool calls\n",
    "    response = llm_with_tool.invoke(messages)\n",
    "    \n",
    "    return {\n",
    "        'messages': state['messages'] + [response],\n",
    "        'question': state['question'],\n",
    "        'Question_valid': state['Question_valid'],\n",
    "        'news': state['news'],\n",
    "        'stock': state['stock'],\n",
    "        'company_name': state['company_name']\n",
    "    }"
   ]
  },
  {
   "cell_type": "code",
   "execution_count": 309,
   "id": "699deef8",
   "metadata": {},
   "outputs": [],
   "source": [
    "def tools_condition(state):\n",
    "    \"\"\"\n",
    "    Always routes to tools for stock data gathering\n",
    "    \"\"\"\n",
    "    return \"tools\""
   ]
  },
  {
   "cell_type": "code",
   "execution_count": 310,
   "id": "2a25da6d",
   "metadata": {},
   "outputs": [],
   "source": [
    "from langgraph.graph import StateGraph, START, END\n",
    "from langgraph.prebuilt import ToolNode\n",
    "\n",
    "graph_builder = StateGraph(State)"
   ]
  },
  {
   "cell_type": "code",
   "execution_count": 311,
   "id": "d45ba560",
   "metadata": {},
   "outputs": [],
   "source": [
    "def decide_to_generate(state):\n",
    "    \"\"\"Route based on question validity\"\"\"\n",
    "    if state.get(\"Question_valid\") == \"Yes\":\n",
    "        return \"fundamental_analyst\"  \n",
    "    else:\n",
    "        return \"reject\""
   ]
  },
  {
   "cell_type": "code",
   "execution_count": 312,
   "id": "2d1bfaa6",
   "metadata": {},
   "outputs": [
    {
     "data": {
      "text/plain": [
       "<langgraph.graph.state.StateGraph at 0x17e1a34f070>"
      ]
     },
     "execution_count": 312,
     "metadata": {},
     "output_type": "execute_result"
    }
   ],
   "source": [
    "graph_builder.add_node('grade_question', grade_Question)\n",
    "graph_builder.add_node('fundamental_analyst', fundamental_analyst)\n",
    "graph_builder.add_node('reject', reject_question)\n",
    "graph_builder.add_node('tools', ToolNode(tools))\n",
    "graph_builder.add_node('transform_question', transform_question)\n",
    "graph_builder.add_node('web_search', web_search)\n",
    "graph_builder.add_node('generate', generate_final_analysis)"
   ]
  },
  {
   "cell_type": "code",
   "execution_count": 313,
   "id": "a9215d5a",
   "metadata": {},
   "outputs": [
    {
     "data": {
      "text/plain": [
       "<langgraph.graph.state.StateGraph at 0x17e1a34f070>"
      ]
     },
     "execution_count": 313,
     "metadata": {},
     "output_type": "execute_result"
    }
   ],
   "source": [
    "graph_builder.add_edge(START, 'grade_question')\n",
    "graph_builder.add_conditional_edges('grade_question', decide_to_generate,\n",
    "                                    {\"fundamental_analyst\": \"fundamental_analyst\", \"reject\": \"reject\"})\n",
    "\n",
    "# Main workflow: grade_question -> fundamental_analyst -> tools -> transform_question -> web_search -> generate\n",
    "graph_builder.add_edge('fundamental_analyst', 'tools')\n",
    "graph_builder.add_edge('tools', 'transform_question')\n",
    "graph_builder.add_edge('transform_question', 'web_search')\n",
    "graph_builder.add_edge('web_search', 'generate')\n",
    "\n",
    "# Rejection path\n",
    "graph_builder.add_edge('reject', END)\n",
    "graph_builder.add_edge('generate', END)"
   ]
  },
  {
   "cell_type": "code",
   "execution_count": 314,
   "id": "0108fd29",
   "metadata": {},
   "outputs": [],
   "source": [
    "# Compile the graph\n",
    "graph = graph_builder.compile()"
   ]
  },
  {
   "cell_type": "code",
   "execution_count": 315,
   "id": "0dd884d5",
   "metadata": {},
   "outputs": [
    {
     "data": {
      "image/png": "[encoded data removed]",
      "text/plain": [
       "<IPython.core.display.Image object>"
      ]
     },
     "metadata": {},
     "output_type": "display_data"
    }
   ],
   "source": [
    "# Display the graph\n",
    "from IPython.display import Image, display # type: ignore\n",
    "display(Image(graph.get_graph(xray=True).draw_mermaid_png()))"
   ]
  },
  {
   "cell_type": "code",
   "execution_count": 316,
   "id": "f6ee5db1",
   "metadata": {},
   "outputs": [],
   "source": [
    "from pprint import pprint\n",
    "    \n",
    "# Test inputs\n",
    "inputs = {\n",
    "    \"question\": \"What is current price of Tesla?\",\n",
    "    \"messages\": [],\n",
    "    \"news\": [],\n",
    "    \"Question_valid\": \"\",\n",
    "    \"stock\": \"\",\n",
    "    \"company_name\": \"\",\n",
    "    \"generation\": \"\"\n",
    "}"
   ]
  },
  {
   "cell_type": "code",
   "execution_count": 317,
   "id": "c37443a4",
   "metadata": {},
   "outputs": [
    {
     "name": "stdout",
     "output_type": "stream",
     "text": [
      "Starting Financial Analysis...\n",
      "---CHECKING DOCUMENT RELEVANT IS TO QUESTION OR NOT---\n",
      "---GRADE: Question IS RELEVANT---\n",
      "---EXTRACTED COMPANY: Tesla (TSLA)---\n",
      "Node 'grade_question' completed\n",
      "---\n",
      "---FUNDAMENTAL ANALYST---\n",
      "Node 'fundamental_analyst' completed\n",
      "---\n"
     ]
    },
    {
     "name": "stderr",
     "output_type": "stream",
     "text": [
      "C:\\Users\\Abhishek\\AppData\\Local\\Temp\\ipykernel_20564\\1319658027.py:5: FutureWarning: YF.download() has changed argument auto_adjust default to True\n",
      "  data = yf.download(\n",
      "[*********************100%***********************]  1 of 1 completed\n"
     ]
    },
    {
     "name": "stdout",
     "output_type": "stream",
     "text": [
      "Node 'tools' completed\n",
      "---\n",
      "---TRANSFORMER QUERY---\n",
      "---NEW QUESTION---\n",
      "Tesla news affecting stock price last month\n",
      "Node 'transform_question' completed\n",
      "---\n",
      "---WEB SEARCH---\n",
      "Node 'web_search' completed\n",
      "---\n",
      "---GENERATE FINAL ANALYSIS---\n",
      "Node 'generate' completed\n",
      "---\n",
      "\n",
      "=== FINAL ANALYSIS ===\n",
      "Based on the extremely limited data provided (0 tool responses and 1 news source), a comprehensive analysis for Tesla (TSLA) is severely constrained. This analysis will highlight the available information and explicitly state what cannot be determined due to data scarcity.\n",
      "\n",
      "---\n",
      "\n",
      "### Comprehensive Analysis for Tesla (TSLA)\n",
      "\n",
      "**Data Available:**\n",
      "*   **Tools Data:** 0 tool responses (No stock price, technical indicators, or financial metrics)\n",
      "*   **News Data:** 1 news source (Reuters, Jan 30, 2024, regarding Musk's intention to move legal home to Texas)\n",
      "\n",
      "---\n",
      "\n",
      "#### 1. Stock Price Analysis\n",
      "\n",
      "**Due to the absence of any tool responses, no stock price data is available.** This means we cannot analyze:\n",
      "*   Current stock price\n",
      "*   Historical price movements (e.g., daily, weekly, monthly performance)\n",
      "*   Trading volume\n",
      "*   Key support or resistance levels\n",
      "*   Overall market trend for TSLA\n",
      "\n",
      "Without this fundamental data, any assessment of TSLA's market performance is impossible.\n",
      "\n",
      "#### 2. Technical Indicators Analysis\n",
      "\n",
      "**Given that no stock price data or tool responses are available, no technical indicators can be calculated or analyzed.** This includes:\n",
      "*   Moving Averages (SMA, EMA)\n",
      "*   Relative Strength Index (RSI)\n",
      "*   Moving Average Convergence Divergence (MACD)\n",
      "*   Bollinger Bands\n",
      "*   Volume-based indicators\n",
      "\n",
      "Therefore, no insights into TSLA's momentum, overbought/oversold conditions, or trend strength can be provided from a technical perspective.\n",
      "\n",
      "#### 3. Financial Metrics Analysis\n",
      "\n",
      "**As there are no tool responses providing financial statements or derived metrics, a financial analysis is not possible.** We lack information on:\n",
      "*   Revenue and revenue growth\n",
      "*   Net income and profitability\n",
      "*   Earnings Per Share (EPS)\n",
      "*   Price-to-Earnings (P/E) ratio\n",
      "*   Debt levels\n",
      "*   Cash flow\n",
      "*   Valuation metrics\n",
      "\n",
      "Without these crucial financial figures, it is impossible to assess Tesla's financial health, operational efficiency, or intrinsic value.\n",
      "\n",
      "#### 4. News Impact Analysis\n",
      "\n",
      "The only piece of available data is a news article:\n",
      "\n",
      "*   **Source:** Reuters\n",
      "*   **Headline:** Tesla's Musk says he expects to vote on moving legal home to Texas\n",
      "*   **Date:** Jan 30, 2024\n",
      "*   **Key Information:** Elon Musk announced his intention to hold a shareholder vote on reincorporating Tesla in Texas. This statement follows a Delaware court ruling that voided his $56 billion pay package, which was approved by Delaware-based shareholders. Musk indicated a \"clear voter decision\" on his X poll favoring the move.\n",
      "\n",
      "**Potential Impact Analysis:**\n",
      "\n",
      "*   **Corporate Governance Concerns:** The primary driver for this move appears to be the Delaware court ruling on Musk's compensation. This raises questions about corporate governance. Some investors may view this as management seeking a more favorable legal jurisdiction to bypass shareholder scrutiny or ensure future compensation packages are approved more easily. This could be perceived negatively by investors prioritizing strong corporate governance and shareholder rights.\n",
      "*   **Uncertainty and Costs:** The process of reincorporating a major company like Tesla is complex, potentially costly, and could involve legal challenges. This introduces a degree of uncertainty regarding the company's legal and operational structure.\n",
      "*   **Perceived Management Control:** For some investors, Musk's decisive action to move the legal domicile might be seen as a positive sign of strong leadership and control, aiming to protect the company and its management from perceived judicial overreach.\n",
      "*   **Investor Sentiment:** The news could elicit mixed reactions. Investors who are strongly aligned with Musk and his vision might view it positively, while those concerned about corporate governance or potential disruptions might react negatively.\n",
      "\n",
      "**Without actual stock price data for January 30th, 2024, and the days following, it is impossible to quantify the *actual* impact this specific news had on TSLA's stock price.** We can only speculate on potential investor sentiment shifts.\n",
      "\n",
      "#### 5. Final Summary and Recommendation\n",
      "\n",
      "**Summary:**\n",
      "This analysis is severely limited by the lack of quantitative data. We have no insights into Tesla's stock price performance, technical trends, or financial health. The only available information pertains to a corporate governance decision by Elon Musk regarding the company's legal domicile, which could have mixed implications for investor sentiment depending on their priorities (e.g., strong management vs. corporate governance).\n",
      "\n",
      "**Recommendation:**\n",
      "**Given the extreme lack of data, no actionable investment recommendation (Buy, Sell, or Hold) can be provided.**\n",
      "\n",
      "An investor considering TSLA would need to gather essential information, including but not limited to:\n",
      "*   **Current and historical stock prices:** To understand market performance and trends.\n",
      "*   **Key technical indicators:** To assess momentum and potential entry/exit points.\n",
      "*   **Comprehensive financial statements:** To evaluate profitability, growth, valuation, and financial stability.\n",
      "*   **Broader market news and analyst reports:** To understand the competitive landscape, regulatory environment, and future outlook for Tesla and the EV industry.\n",
      "*   **Further details on the reincorporation process:** To understand its potential costs, risks, and benefits.\n",
      "\n",
      "The news about moving the legal home to Texas is a significant corporate governance event that warrants close monitoring, as it could influence long-term investor confidence and the company's operational environment.\n",
      "\n",
      "#### 6. Answer to the original question: Tesla news affecting stock price last month\n",
      "\n",
      "The news source provided is dated **January 30, 2024**, which falls within \"last month\" (assuming the current date is sometime in February 2024 or later).\n",
      "\n",
      "The news states that **Elon Musk expects to hold a vote on moving Tesla's legal home to Texas**, a decision stemming from a Delaware court voiding his compensation package.\n",
      "\n",
      "**Due to the complete absence of stock price data for January 2024, it is impossible to definitively determine the actual impact this specific news had on Tesla's stock price last month.** While the news could have introduced uncertainty, raised corporate governance concerns, or been perceived as a decisive move by management, we cannot confirm any corresponding stock price movement (up, down, or flat) without the relevant data.\n"
     ]
    }
   ],
   "source": [
    "print(\"Starting Financial Analysis...\")\n",
    "    \n",
    "final_result = None\n",
    "for output in graph.stream(inputs):\n",
    "    for key, value in output.items():\n",
    "        print(f\"Node '{key}' completed\")\n",
    "        final_result = value\n",
    "    print(\"---\")\n",
    "\n",
    "if final_result and \"generation\" in final_result:\n",
    "    print(\"\\n=== FINAL ANALYSIS ===\")\n",
    "    print(final_result[\"generation\"])\n",
    "else:\n",
    "    print(\"\\n=== ERROR ===\")\n",
    "    print(\"No final generation produced\")"
   ]
  },
  {
   "cell_type": "code",
   "execution_count": 318,
   "id": "7a9b45cf",
   "metadata": {},
   "outputs": [],
   "source": [
    "from pprint import pprint\n",
    "    \n",
    "# Test inputs\n",
    "inputs = {\n",
    "    \"question\": \"Who is the CEO of Tesla?\",\n",
    "    \"messages\": [],\n",
    "    \"news\": [],\n",
    "    \"Question_valid\": \"\",\n",
    "    \"stock\": \"\",\n",
    "    \"company_name\": \"\",\n",
    "    \"generation\": \"\"\n",
    "}"
   ]
  },
  {
   "cell_type": "code",
   "execution_count": 319,
   "id": "39ba1d1c",
   "metadata": {},
   "outputs": [
    {
     "name": "stdout",
     "output_type": "stream",
     "text": [
      "Starting Financial Analysis...\n",
      "---CHECKING DOCUMENT RELEVANT IS TO QUESTION OR NOT---\n",
      "---GRADE: Question IS NOT RELEVANT---\n",
      "Node 'grade_question' completed\n",
      "---\n",
      "---REJECTING: Not a finance stock question---\n",
      "Node 'reject' completed\n",
      "---\n",
      "\n",
      "=== FINAL ANALYSIS ===\n",
      "This question is not related to financial stock analysis.\n"
     ]
    }
   ],
   "source": [
    "print(\"Starting Financial Analysis...\")\n",
    "    \n",
    "final_result = None\n",
    "for output in graph.stream(inputs):\n",
    "    for key, value in output.items():\n",
    "        print(f\"Node '{key}' completed\")\n",
    "        final_result = value\n",
    "    print(\"---\")\n",
    "\n",
    "if final_result and \"generation\" in final_result:\n",
    "    print(\"\\n=== FINAL ANALYSIS ===\")\n",
    "    print(final_result[\"generation\"])\n",
    "else:\n",
    "    print(\"\\n=== ERROR ===\")\n",
    "    print(\"No final generation produced\")"
   ]
  },
  {
   "cell_type": "code",
   "execution_count": 320,
   "id": "2a86a154",
   "metadata": {},
   "outputs": [],
   "source": [
    "from pprint import pprint\n",
    "    \n",
    "# Test inputs\n",
    "inputs = {\n",
    "    \"question\": \"what is stock price of Amazon?\",\n",
    "    \"messages\": [],\n",
    "    \"news\": [],\n",
    "    \"Question_valid\": \"\",\n",
    "    \"stock\": \"\",\n",
    "    \"company_name\": \"\",\n",
    "    \"generation\": \"\"\n",
    "}"
   ]
  },
  {
   "cell_type": "code",
   "execution_count": 321,
   "id": "ef8b27a0",
   "metadata": {},
   "outputs": [
    {
     "name": "stdout",
     "output_type": "stream",
     "text": [
      "Starting Financial Analysis...\n",
      "---CHECKING DOCUMENT RELEVANT IS TO QUESTION OR NOT---\n",
      "---GRADE: Question IS RELEVANT---\n",
      "---EXTRACTED COMPANY: Amazon (AMZN)---\n",
      "Node 'grade_question' completed\n",
      "---\n",
      "---FUNDAMENTAL ANALYST---\n",
      "Node 'fundamental_analyst' completed\n",
      "---\n"
     ]
    },
    {
     "name": "stderr",
     "output_type": "stream",
     "text": [
      "C:\\Users\\Abhishek\\AppData\\Local\\Temp\\ipykernel_20564\\1319658027.py:5: FutureWarning: YF.download() has changed argument auto_adjust default to True\n",
      "  data = yf.download(\n",
      "[*********************100%***********************]  1 of 1 completed\n"
     ]
    },
    {
     "name": "stdout",
     "output_type": "stream",
     "text": [
      "Node 'tools' completed\n",
      "---\n",
      "---TRANSFORMER QUERY---\n",
      "---NEW QUESTION---\n",
      "What recent news about Amazon has influenced its stock price (rise or fall) in the past month?\n",
      "Node 'transform_question' completed\n",
      "---\n",
      "---WEB SEARCH---\n",
      "Node 'web_search' completed\n",
      "---\n",
      "---GENERATE FINAL ANALYSIS---\n",
      "Node 'generate' completed\n",
      "---\n",
      "\n",
      "=== FINAL ANALYSIS ===\n",
      "Based on the information provided, which states \"Tools Data Available: 0 tool responses\" and \"News Data Available: 1 news sources\" (without the actual content of the news), a comprehensive analysis with actionable insights for Amazon (AMZN) is severely limited.\n",
      "\n",
      "**Crucially, without any specific financial metrics, stock price data, technical indicator readings, or the actual content of the news source, it is impossible to provide a meaningful and actionable analysis.**\n",
      "\n",
      "Therefore, the following sections will explain what *would* be analyzed if the data were available, and highlight the current limitations.\n",
      "\n",
      "---\n",
      "\n",
      "### Comprehensive Analysis for Amazon (AMZN)\n",
      "\n",
      "**Data Availability Summary:**\n",
      "*   **Tools Data:** None provided (no stock price, no technical indicators, no financial metrics).\n",
      "*   **News Data:** Indication of 1 source, but the content of the news is not provided.\n",
      "\n",
      "---\n",
      "\n",
      "**1. Stock Price Analysis**\n",
      "\n",
      "*   **Current Situation:** No stock price data (e.g., current price, 52-week high/low, daily/weekly/monthly performance, trading volume) has been provided.\n",
      "*   **What would be analyzed if data were available:**\n",
      "    *   **Recent Performance:** Identify the stock's trend over the past day, week, month, and year. Is it in an uptrend, downtrend, or trading sideways?\n",
      "    *   **Key Price Levels:** Identify significant support and resistance levels.\n",
      "    *   **Volume Analysis:** Assess trading volume alongside price movements to confirm trends (e.g., high volume on uptrends is bullish).\n",
      "    *   **Volatility:** Evaluate the degree of price fluctuations.\n",
      "\n",
      "**Without this data, no stock price analysis can be performed.**\n",
      "\n",
      "---\n",
      "\n",
      "**2. Technical Indicators Analysis**\n",
      "\n",
      "*   **Current Situation:** No technical indicator data (e.g., RSI, MACD, moving averages, Bollinger Bands) has been provided.\n",
      "*   **What would be analyzed if data were available:**\n",
      "    *   **Momentum (RSI, MACD):** Determine if the stock is overbought/oversold (RSI) or if there's a bullish/bearish crossover (MACD).\n",
      "    *   **Trend Confirmation (Moving Averages):** Assess if the short-term averages are above long-term averages (bullish) or vice versa (bearish). Identify potential golden or death crosses.\n",
      "    *   **Volatility and Price Bands (Bollinger Bands):** See if the price is near the upper or lower band, indicating potential reversals or breakouts.\n",
      "    *   **Support & Resistance:** Identify key price levels where buying or selling pressure is expected to emerge.\n",
      "\n",
      "**Without this data, no technical indicators analysis can be performed.**\n",
      "\n",
      "---\n",
      "\n",
      "**3. Financial Metrics Analysis**\n",
      "\n",
      "*   **Current Situation:** No specific financial metrics (e.g., P/E ratio, EPS, revenue growth, net income, free cash flow, debt levels, profit margins) have been provided.\n",
      "*   **What would be analyzed if data were available:**\n",
      "    *   **Valuation:** Assess if the stock is overvalued, undervalued, or fairly valued compared to its earnings (P/E), sales (P/S), or industry peers.\n",
      "    *   **Growth:** Analyze revenue and earnings per share (EPS) growth rates to understand the company's expansion trajectory.\n",
      "    *   **Profitability:** Examine net income, operating margins, and gross margins to gauge the company's efficiency and ability to generate profit.\n",
      "    *   **Balance Sheet Health:** Evaluate debt levels, liquidity ratios, and shareholder equity to assess financial stability.\n",
      "    *   **Cash Flow:** Analyze free cash flow (FCF) generation, which indicates the company's ability to fund operations, investments, and return capital to shareholders.\n",
      "\n",
      "**Without this data, no financial metrics analysis can be performed.**\n",
      "\n",
      "---\n",
      "\n",
      "**4. News Impact Analysis**\n",
      "\n",
      "*   **Current Situation:** The prompt indicates \"1 news sources\" but the actual content of this news is **not provided**.\n",
      "*   **What would be analyzed if the news content were available:**\n",
      "    *   **Nature of the News:** Determine if the news is positive (e.g., strong earnings, new product launch, successful expansion, cost-cutting measures), negative (e.g., regulatory fines, weak guidance, increased competition, supply chain issues), or neutral.\n",
      "    *   **Direct Impact:** How does the news directly affect Amazon's core business segments (e-commerce, AWS, advertising, subscriptions)?\n",
      "    *   **Financial Implications:** Does it imply higher/lower revenue, costs, or profitability?\n",
      "    *   **Investor Sentiment:** How is the market likely to react? Does it change the long-term outlook for the company?\n",
      "    *   **Magnitude and Duration:** Is the news likely to have a short-term price fluctuation or a more sustained impact on the stock's valuation?\n",
      "\n",
      "**Without the actual news content, no news impact analysis can be performed.**\n",
      "\n",
      "---\n",
      "\n",
      "**5. Final Summary and Recommendation**\n",
      "\n",
      "*   **Current Situation:** Due to the complete lack of stock price data, technical indicators, financial metrics, and the content of the single news source, it is **impossible to provide a comprehensive summary or an actionable recommendation (Buy/Sell/Hold).**\n",
      "*   **What would be needed for a recommendation:** A holistic view combining:\n",
      "    *   **Strong fundamentals:** Healthy growth, profitability, and financial stability.\n",
      "    *   **Positive technicals:** Upward price momentum, favorable indicator readings.\n",
      "    *   **Catalytic news:** Positive developments that could drive future growth or re-rate the stock.\n",
      "    *   **Valuation:** Assurance that the stock is not excessively overvalued.\n",
      "\n",
      "**Without any of the necessary data, any recommendation would be purely speculative and irresponsible.**\n",
      "\n",
      "---\n",
      "\n",
      "**6. Answer to the original question: What recent news about Amazon has influenced its stock price (rise or fall) in the past month?**\n",
      "\n",
      "**Based on the information provided, it is impossible to answer this question.** The prompt states \"1 news sources\" available, but the actual content of this news is not provided. To determine how recent news influenced Amazon's stock price, the specific details of the news (e.g., earnings report, new product announcement, regulatory development, economic outlook comments, analyst ratings) and the corresponding stock price movement after its release would be required.\n"
     ]
    }
   ],
   "source": [
    "print(\"Starting Financial Analysis...\")\n",
    "    \n",
    "final_result = None\n",
    "for output in graph.stream(inputs):\n",
    "    for key, value in output.items():\n",
    "        print(f\"Node '{key}' completed\")\n",
    "        final_result = value\n",
    "    print(\"---\")\n",
    "\n",
    "if final_result and \"generation\" in final_result:\n",
    "    print(\"\\n=== FINAL ANALYSIS ===\")\n",
    "    print(final_result[\"generation\"])\n",
    "else:\n",
    "    print(\"\\n=== ERROR ===\")\n",
    "    print(\"No final generation produced\")"
   ]
  },
  {
   "cell_type": "code",
   "execution_count": 322,
   "id": "653ed4de",
   "metadata": {},
   "outputs": [],
   "source": [
    "from pprint import pprint\n",
    "    \n",
    "# Test inputs\n",
    "inputs = {\n",
    "    \"question\": \"Shall I buy dollar stocks or wait?\",\n",
    "    \"messages\": [],\n",
    "    \"news\": [],\n",
    "    \"Question_valid\": \"\",\n",
    "    \"stock\": \"\",\n",
    "    \"company_name\": \"\",\n",
    "    \"generation\": \"\"\n",
    "}"
   ]
  },
  {
   "cell_type": "code",
   "execution_count": 323,
   "id": "d2e8d0af",
   "metadata": {},
   "outputs": [
    {
     "name": "stdout",
     "output_type": "stream",
     "text": [
      "Starting Financial Analysis...\n",
      "---CHECKING DOCUMENT RELEVANT IS TO QUESTION OR NOT---\n",
      "---GRADE: Question IS RELEVANT---\n",
      "---EXTRACTED COMPANY: UNKNOWN (UNKNOWN)---\n",
      "Node 'grade_question' completed\n",
      "---\n",
      "---FUNDAMENTAL ANALYST---\n",
      "Node 'fundamental_analyst' completed\n",
      "---\n",
      "Node 'tools' completed\n",
      "---\n",
      "---TRANSFORMER QUERY---\n",
      "---NEW QUESTION---\n",
      "What recent company news has influenced US stock price movements in the last month?\n",
      "Node 'transform_question' completed\n",
      "---\n",
      "---WEB SEARCH---\n",
      "Node 'web_search' completed\n",
      "---\n",
      "---GENERATE FINAL ANALYSIS---\n",
      "Node 'generate' completed\n",
      "---\n",
      "\n",
      "=== FINAL ANALYSIS ===\n",
      "**Comprehensive Analysis for UNKNOWN (UNKNOWN)**\n",
      "\n",
      "**Overview:**\n",
      "This analysis is severely limited by the lack of specific data for the entity \"UNKNOWN (UNKNOWN)\". No tool responses were available for financial metrics, stock prices, or technical indicators. Only one news source was identified, and without its specific content, its relevance or impact cannot be assessed. Therefore, a comprehensive analysis with actionable insights is not possible at this time.\n",
      "\n",
      "---\n",
      "\n",
      "**1. Stock Price Analysis**\n",
      "*   **Data Available:** 0 tool responses.\n",
      "*   **Analysis:** No stock price data or historical performance information is available for \"UNKNOWN (UNKNOWN)\". As such, no analysis of past movements, volatility, or trends can be performed.\n",
      "\n",
      "---\n",
      "\n",
      "**2. Technical Indicators Analysis**\n",
      "*   **Data Available:** 0 tool responses.\n",
      "*   **Analysis:** Without any stock price data, it is impossible to calculate or analyze technical indicators such as Moving Averages, RSI, MACD, or Bollinger Bands. Therefore, no insights into potential entry/exit points, overbought/oversold conditions, or momentum can be provided.\n",
      "\n",
      "---\n",
      "\n",
      "**3. Financial Metrics Analysis**\n",
      "*   **Data Available:** 0 tool responses.\n",
      "*   **Analysis:** No financial statements, key ratios (e.g., P/E, EPS, Revenue, Profit Margins), or balance sheet information are available for \"UNKNOWN (UNKNOWN)\". Consequently, no assessment of the entity's financial health, profitability, solvency, or efficiency can be made.\n",
      "\n",
      "---\n",
      "\n",
      "**4. News Impact Analysis**\n",
      "*   **Data Available:** 1 news source.\n",
      "*   **Analysis:** While one news source was identified, its content was not provided. Without the specific details of this news, it is impossible to determine its nature (e.g., company-specific announcement, industry trend, macroeconomic event), its relevance to \"UNKNOWN (UNKNOWN)\", or its potential impact on any stock price movements or market sentiment. Given the entity is \"UNKNOWN (UNKNOWN)\", it is highly improbable that the news source is specific to this entity unless it's a placeholder. Therefore, no meaningful news impact analysis can be conducted.\n",
      "\n",
      "---\n",
      "\n",
      "**5. Final Summary and Recommendation**\n",
      "\n",
      "**Summary:**\n",
      "Due to the complete absence of any specific financial data, stock price information, technical indicators, or the content of the sole identified news source, a meaningful and comprehensive analysis for \"UNKNOWN (UNKNOWN)\" is impossible. All sections of the requested analysis are critically lacking the necessary data inputs.\n",
      "\n",
      "**Recommendation:**\n",
      "It is strongly recommended to **gather more specific and relevant data** for \"UNKNOWN (UNKNOWN)\" before any investment decisions or actionable insights can be formulated. This would include:\n",
      "*   Identifying the specific company or entity.\n",
      "*   Obtaining historical stock price data.\n",
      "*   Accessing financial statements and key metrics.\n",
      "*   Retrieving the full content of any relevant news articles.\n",
      "Without this fundamental information, any assessment would be speculative and unreliable.\n",
      "\n",
      "---\n",
      "\n",
      "**6. Answer to the original question: What recent company news has influenced US stock price movements in the last month?**\n",
      "\n",
      "Based on the provided data, which includes zero tool responses and only one unidentified news source for \"UNKNOWN (UNKNOWN)\", it is **not possible to identify any specific company news that has influenced US stock price movements in the last month.** The available data is insufficient to link any particular company news to broader US market movements or to the specific entity \"UNKNOWN (UNKNOWN)\". To answer this question, a broader search for market-wide news and its impact on major indices or specific sectors would be required, which is beyond the scope of the limited data provided for \"UNKNOWN (UNKNOWN)\".\n"
     ]
    }
   ],
   "source": [
    "print(\"Starting Financial Analysis...\")\n",
    "    \n",
    "final_result = None\n",
    "for output in graph.stream(inputs):\n",
    "    for key, value in output.items():\n",
    "        print(f\"Node '{key}' completed\")\n",
    "        final_result = value\n",
    "    print(\"---\")\n",
    "\n",
    "if final_result and \"generation\" in final_result:\n",
    "    print(\"\\n=== FINAL ANALYSIS ===\")\n",
    "    print(final_result[\"generation\"])\n",
    "else:\n",
    "    print(\"\\n=== ERROR ===\")\n",
    "    print(\"No final generation produced\")"
   ]
  }
 ],
 "metadata": {
  "kernelspec": {
   "display_name": "Python 3",
   "language": "python",
   "name": "python3"
  },
  "language_info": {
   "codemirror_mode": {
    "name": "ipython",
    "version": 3
   },
   "file_extension": ".py",
   "mimetype": "text/x-python",
   "name": "python",
   "nbconvert_exporter": "python",
   "pygments_lexer": "ipython3",
   "version": "3.10.18"
  }
 },
 "nbformat": 4,
 "nbformat_minor": 5
}
